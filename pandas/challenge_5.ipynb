{
 "cells": [
  {
   "cell_type": "markdown",
   "metadata": {},
   "source": [
    "# intentar casas búsquedas con vuelos"
   ]
  },
  {
   "cell_type": "code",
   "execution_count": 1,
   "metadata": {
    "collapsed": true
   },
   "outputs": [],
   "source": [
    "# intentar deducir q datos son relevantes ...."
   ]
  },
  {
   "cell_type": "code",
   "execution_count": 45,
   "metadata": {
    "collapsed": false
   },
   "outputs": [
    {
     "name": "stdout",
     "output_type": "stream",
     "text": [
      "Populating the interactive namespace from numpy and matplotlib\n"
     ]
    }
   ],
   "source": [
    "import pandas as pd\n",
    "%pylab inline"
   ]
  },
  {
   "cell_type": "code",
   "execution_count": 63,
   "metadata": {
    "collapsed": false
   },
   "outputs": [],
   "source": [
    "# importar el csv \n",
    "# pandas lo importa aunque esté comprimido\n",
    "dfBook=pd.read_csv(\"bookings.csv.bz2\",\n",
    "               sep='^',\n",
    "               usecols=['brd_time           ','brd_port','off_port'],\n",
    "               nrows=1e5,\n",
    "               parse_dates=['brd_time           '])\n",
    "\n",
    "\n",
    "# 1e5 = 100000"
   ]
  },
  {
   "cell_type": "code",
   "execution_count": 64,
   "metadata": {
    "collapsed": false
   },
   "outputs": [],
   "source": [
    "# cambiamos el nombre de una columna \n",
    "dfBook['date']=dfBook['brd_time           ']"
   ]
  },
  {
   "cell_type": "code",
   "execution_count": 65,
   "metadata": {
    "collapsed": false
   },
   "outputs": [
    {
     "data": {
      "text/html": [
       "<div>\n",
       "<table border=\"1\" class=\"dataframe\">\n",
       "  <thead>\n",
       "    <tr style=\"text-align: right;\">\n",
       "      <th></th>\n",
       "      <th>brd_port</th>\n",
       "      <th>off_port</th>\n",
       "      <th>brd_time</th>\n",
       "      <th>date</th>\n",
       "    </tr>\n",
       "  </thead>\n",
       "  <tbody>\n",
       "    <tr>\n",
       "      <th>37675</th>\n",
       "      <td>CDG</td>\n",
       "      <td>LHR</td>\n",
       "      <td>2013-05-07 13:25:00</td>\n",
       "      <td>2013-05-07 13:25:00</td>\n",
       "    </tr>\n",
       "    <tr>\n",
       "      <th>19384</th>\n",
       "      <td>YUL</td>\n",
       "      <td>TUN</td>\n",
       "      <td>2013-06-28 16:45:00</td>\n",
       "      <td>2013-06-28 16:45:00</td>\n",
       "    </tr>\n",
       "    <tr>\n",
       "      <th>47125</th>\n",
       "      <td>MIA</td>\n",
       "      <td>JFK</td>\n",
       "      <td>2013-03-07 13:10:00</td>\n",
       "      <td>2013-03-07 13:10:00</td>\n",
       "    </tr>\n",
       "    <tr>\n",
       "      <th>84483</th>\n",
       "      <td>BAH</td>\n",
       "      <td>ZRH</td>\n",
       "      <td>2013-01-29 09:50:00</td>\n",
       "      <td>2013-01-29 09:50:00</td>\n",
       "    </tr>\n",
       "    <tr>\n",
       "      <th>16774</th>\n",
       "      <td>MAD</td>\n",
       "      <td>COR</td>\n",
       "      <td>2013-02-07 19:10:00</td>\n",
       "      <td>2013-02-07 19:10:00</td>\n",
       "    </tr>\n",
       "    <tr>\n",
       "      <th>37732</th>\n",
       "      <td>BHX</td>\n",
       "      <td>SCL</td>\n",
       "      <td>2013-07-07 17:30:00</td>\n",
       "      <td>2013-07-07 17:30:00</td>\n",
       "    </tr>\n",
       "    <tr>\n",
       "      <th>84548</th>\n",
       "      <td>VNO</td>\n",
       "      <td>WAW</td>\n",
       "      <td>2013-01-31 11:55:00</td>\n",
       "      <td>2013-01-31 11:55:00</td>\n",
       "    </tr>\n",
       "    <tr>\n",
       "      <th>73696</th>\n",
       "      <td>NCE</td>\n",
       "      <td>BOM</td>\n",
       "      <td>2013-06-18 16:05:00</td>\n",
       "      <td>2013-06-18 16:05:00</td>\n",
       "    </tr>\n",
       "    <tr>\n",
       "      <th>58035</th>\n",
       "      <td>SHE</td>\n",
       "      <td>HKG</td>\n",
       "      <td>2013-03-10 15:00:00</td>\n",
       "      <td>2013-03-10 15:00:00</td>\n",
       "    </tr>\n",
       "    <tr>\n",
       "      <th>54390</th>\n",
       "      <td>EWR</td>\n",
       "      <td>MSP</td>\n",
       "      <td>2013-03-07 06:15:00</td>\n",
       "      <td>2013-03-07 06:15:00</td>\n",
       "    </tr>\n",
       "  </tbody>\n",
       "</table>\n",
       "</div>"
      ],
      "text/plain": [
       "       brd_port  off_port brd_time                           date\n",
       "37675  CDG       LHR      2013-05-07 13:25:00 2013-05-07 13:25:00\n",
       "19384  YUL       TUN      2013-06-28 16:45:00 2013-06-28 16:45:00\n",
       "47125  MIA       JFK      2013-03-07 13:10:00 2013-03-07 13:10:00\n",
       "84483  BAH       ZRH      2013-01-29 09:50:00 2013-01-29 09:50:00\n",
       "16774  MAD       COR      2013-02-07 19:10:00 2013-02-07 19:10:00\n",
       "37732  BHX       SCL      2013-07-07 17:30:00 2013-07-07 17:30:00\n",
       "84548  VNO       WAW      2013-01-31 11:55:00 2013-01-31 11:55:00\n",
       "73696  NCE       BOM      2013-06-18 16:05:00 2013-06-18 16:05:00\n",
       "58035  SHE       HKG      2013-03-10 15:00:00 2013-03-10 15:00:00\n",
       "54390  EWR       MSP      2013-03-07 06:15:00 2013-03-07 06:15:00"
      ]
     },
     "execution_count": 65,
     "metadata": {},
     "output_type": "execute_result"
    }
   ],
   "source": [
    "dfBook.sample(10)"
   ]
  },
  {
   "cell_type": "code",
   "execution_count": 48,
   "metadata": {
    "collapsed": true
   },
   "outputs": [],
   "source": [
    "# importar el csv \n",
    "# pandas lo importa aunque esté comprimido\n",
    "dfSearch=pd.read_csv(\"searches.csv.bz2\",sep='^',\n",
    "                     usecols=['Seg1Date','Origin','Destination'],\n",
    "                     nrows=1e5,\n",
    "                     parse_dates=['Seg1Date'])\n",
    "\n",
    "#df=pd.read_csv(\"searches.csv.bz2\",sep='^',usecols=['Date','Destination'],parse_dates=['Date'])\n",
    "\n",
    "# 1e5 = 100000"
   ]
  },
  {
   "cell_type": "code",
   "execution_count": 49,
   "metadata": {
    "collapsed": false
   },
   "outputs": [
    {
     "data": {
      "text/plain": [
       "Index([u'Origin', u'Destination', u'Seg1Date'], dtype='object')"
      ]
     },
     "execution_count": 49,
     "metadata": {},
     "output_type": "execute_result"
    }
   ],
   "source": [
    "dfSearch.columns"
   ]
  },
  {
   "cell_type": "code",
   "execution_count": 40,
   "metadata": {
    "collapsed": false
   },
   "outputs": [
    {
     "data": {
      "text/html": [
       "<div>\n",
       "<table border=\"1\" class=\"dataframe\">\n",
       "  <thead>\n",
       "    <tr style=\"text-align: right;\">\n",
       "      <th></th>\n",
       "      <th>brd_port</th>\n",
       "      <th>off_port</th>\n",
       "      <th>brd_time</th>\n",
       "      <th>date</th>\n",
       "    </tr>\n",
       "  </thead>\n",
       "  <tbody>\n",
       "    <tr>\n",
       "      <th>31448</th>\n",
       "      <td>TPE</td>\n",
       "      <td>SFO</td>\n",
       "      <td>2013-03-06 23:40:00</td>\n",
       "      <td>2013-03-06 23:40:00</td>\n",
       "    </tr>\n",
       "    <tr>\n",
       "      <th>55596</th>\n",
       "      <td>FEG</td>\n",
       "      <td>LED</td>\n",
       "      <td>2013-05-20 19:50:00</td>\n",
       "      <td>2013-05-20 19:50:00</td>\n",
       "    </tr>\n",
       "    <tr>\n",
       "      <th>98532</th>\n",
       "      <td>ARN</td>\n",
       "      <td>SVO</td>\n",
       "      <td>2013-05-20 11:50:00</td>\n",
       "      <td>2013-05-20 11:50:00</td>\n",
       "    </tr>\n",
       "    <tr>\n",
       "      <th>22045</th>\n",
       "      <td>ESB</td>\n",
       "      <td>WAW</td>\n",
       "      <td>2013-01-09 10:00:00</td>\n",
       "      <td>2013-01-09 10:00:00</td>\n",
       "    </tr>\n",
       "    <tr>\n",
       "      <th>29529</th>\n",
       "      <td>ZRH</td>\n",
       "      <td>YUL</td>\n",
       "      <td>2013-04-15 12:50:00</td>\n",
       "      <td>2013-04-15 12:50:00</td>\n",
       "    </tr>\n",
       "  </tbody>\n",
       "</table>\n",
       "</div>"
      ],
      "text/plain": [
       "       brd_port  off_port brd_time                           date\n",
       "31448  TPE       SFO      2013-03-06 23:40:00 2013-03-06 23:40:00\n",
       "55596  FEG       LED      2013-05-20 19:50:00 2013-05-20 19:50:00\n",
       "98532  ARN       SVO      2013-05-20 11:50:00 2013-05-20 11:50:00\n",
       "22045  ESB       WAW      2013-01-09 10:00:00 2013-01-09 10:00:00\n",
       "29529  ZRH       YUL      2013-04-15 12:50:00 2013-04-15 12:50:00"
      ]
     },
     "execution_count": 40,
     "metadata": {},
     "output_type": "execute_result"
    }
   ],
   "source": [
    "dfBook.sample(5)"
   ]
  },
  {
   "cell_type": "code",
   "execution_count": 76,
   "metadata": {
    "collapsed": false
   },
   "outputs": [
    {
     "data": {
      "text/html": [
       "<div>\n",
       "<table border=\"1\" class=\"dataframe\">\n",
       "  <thead>\n",
       "    <tr style=\"text-align: right;\">\n",
       "      <th></th>\n",
       "      <th>Origin</th>\n",
       "      <th>Destination</th>\n",
       "      <th>Seg1Date</th>\n",
       "      <th>fecha</th>\n",
       "    </tr>\n",
       "  </thead>\n",
       "  <tbody>\n",
       "    <tr>\n",
       "      <th>96988</th>\n",
       "      <td>LGA</td>\n",
       "      <td>GEG</td>\n",
       "      <td>2013-04-20</td>\n",
       "      <td>2013-04-20</td>\n",
       "    </tr>\n",
       "    <tr>\n",
       "      <th>53562</th>\n",
       "      <td>CLT</td>\n",
       "      <td>ROM</td>\n",
       "      <td>2013-05-22</td>\n",
       "      <td>2013-05-22</td>\n",
       "    </tr>\n",
       "    <tr>\n",
       "      <th>45608</th>\n",
       "      <td>FRA</td>\n",
       "      <td>IAH</td>\n",
       "      <td>2013-04-07</td>\n",
       "      <td>2013-04-07</td>\n",
       "    </tr>\n",
       "    <tr>\n",
       "      <th>90788</th>\n",
       "      <td>JED</td>\n",
       "      <td>MED</td>\n",
       "      <td>2013-04-11</td>\n",
       "      <td>2013-04-11</td>\n",
       "    </tr>\n",
       "    <tr>\n",
       "      <th>47380</th>\n",
       "      <td>MTR</td>\n",
       "      <td>BOG</td>\n",
       "      <td>2013-03-19</td>\n",
       "      <td>2013-03-19</td>\n",
       "    </tr>\n",
       "  </tbody>\n",
       "</table>\n",
       "</div>"
      ],
      "text/plain": [
       "      Origin Destination   Seg1Date       fecha\n",
       "96988    LGA         GEG 2013-04-20  2013-04-20\n",
       "53562    CLT         ROM 2013-05-22  2013-05-22\n",
       "45608    FRA         IAH 2013-04-07  2013-04-07\n",
       "90788    JED         MED 2013-04-11  2013-04-11\n",
       "47380    MTR         BOG 2013-03-19  2013-03-19"
      ]
     },
     "execution_count": 76,
     "metadata": {},
     "output_type": "execute_result"
    }
   ],
   "source": [
    "dfSearch.sample(5)"
   ]
  },
  {
   "cell_type": "code",
   "execution_count": 69,
   "metadata": {
    "collapsed": false
   },
   "outputs": [],
   "source": [
    "def sinHora(fec):\n",
    "    return fec.date()\n",
    "    "
   ]
  },
  {
   "cell_type": "code",
   "execution_count": 71,
   "metadata": {
    "collapsed": false
   },
   "outputs": [],
   "source": [
    "dfBook[\"fecha\"]=dfBook.date.apply(sinHora)"
   ]
  },
  {
   "cell_type": "code",
   "execution_count": 72,
   "metadata": {
    "collapsed": true
   },
   "outputs": [],
   "source": [
    "dfSearch[\"fecha\"]=dfSearch.Seg1Date.apply(sinHora)"
   ]
  },
  {
   "cell_type": "markdown",
   "metadata": {},
   "source": [
    "ahora hay q cruzar (es un modelo muy simple, sólo un ejemplo)"
   ]
  },
  {
   "cell_type": "code",
   "execution_count": 78,
   "metadata": {
    "collapsed": false
   },
   "outputs": [],
   "source": [
    "dfCruce=pd.merge(dfSearch,\n",
    "         dfBook,\n",
    "         how='left',\n",
    "         left_on=['Origin','Destination','fecha'],\n",
    "         right_on=['brd_port','off_port','fecha'])"
   ]
  },
  {
   "cell_type": "code",
   "execution_count": 79,
   "metadata": {
    "collapsed": true
   },
   "outputs": [],
   "source": [
    "# añadimos una columna para identificar las fichas en las que ha habido matching (puede ser que no haya ninguno)\n",
    "dfCruce['match'\"']=dfCruce.brd_port.apply(lambda b: not pd.isnull(b))\n",
    "        \n",
    "# !!! ejemplo de lambda, función anónima"
   ]
  },
  {
   "cell_type": "code",
   "execution_count": 81,
   "metadata": {
    "collapsed": false
   },
   "outputs": [
    {
     "data": {
      "text/html": [
       "<div>\n",
       "<table border=\"1\" class=\"dataframe\">\n",
       "  <thead>\n",
       "    <tr style=\"text-align: right;\">\n",
       "      <th></th>\n",
       "      <th>Origin</th>\n",
       "      <th>Destination</th>\n",
       "      <th>Seg1Date</th>\n",
       "      <th>fecha</th>\n",
       "      <th>brd_port</th>\n",
       "      <th>off_port</th>\n",
       "      <th>brd_time</th>\n",
       "      <th>date</th>\n",
       "    </tr>\n",
       "    <tr>\n",
       "      <th>match</th>\n",
       "      <th></th>\n",
       "      <th></th>\n",
       "      <th></th>\n",
       "      <th></th>\n",
       "      <th></th>\n",
       "      <th></th>\n",
       "      <th></th>\n",
       "      <th></th>\n",
       "    </tr>\n",
       "  </thead>\n",
       "  <tbody>\n",
       "    <tr>\n",
       "      <th>False</th>\n",
       "      <td>100000</td>\n",
       "      <td>100000</td>\n",
       "      <td>99605</td>\n",
       "      <td>100000</td>\n",
       "      <td>0</td>\n",
       "      <td>0</td>\n",
       "      <td>0</td>\n",
       "      <td>0</td>\n",
       "    </tr>\n",
       "  </tbody>\n",
       "</table>\n",
       "</div>"
      ],
      "text/plain": [
       "       Origin  Destination  Seg1Date   fecha  brd_port  off_port  \\\n",
       "match                                                              \n",
       "False  100000       100000     99605  100000         0         0   \n",
       "\n",
       "       brd_time             date  \n",
       "match                             \n",
       "False                    0     0  "
      ]
     },
     "execution_count": 81,
     "metadata": {},
     "output_type": "execute_result"
    }
   ],
   "source": [
    "dfCruce.groupby('match').count()"
   ]
  },
  {
   "cell_type": "code",
   "execution_count": null,
   "metadata": {
    "collapsed": true
   },
   "outputs": [],
   "source": []
  }
 ],
 "metadata": {
  "kernelspec": {
   "display_name": "Python 2",
   "language": "python",
   "name": "python2"
  },
  "language_info": {
   "codemirror_mode": {
    "name": "ipython",
    "version": 2
   },
   "file_extension": ".py",
   "mimetype": "text/x-python",
   "name": "python",
   "nbconvert_exporter": "python",
   "pygments_lexer": "ipython2",
   "version": "2.7.10"
  }
 },
 "nbformat": 4,
 "nbformat_minor": 0
}
