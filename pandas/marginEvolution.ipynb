{
 "cells": [
  {
   "cell_type": "code",
   "execution_count": 3,
   "metadata": {
    "collapsed": false
   },
   "outputs": [
    {
     "name": "stdout",
     "output_type": "stream",
     "text": [
      "Populating the interactive namespace from numpy and matplotlib\n"
     ]
    }
   ],
   "source": [
    "import numpy as np\n",
    "import pandas as pd\n",
    "from pandas import DataFrame, Series\n",
    "import matplotlib.pyplot as plt\n",
    "%matplotlib inline\n",
    "\n",
    "%pylab inline"
   ]
  },
  {
   "cell_type": "code",
   "execution_count": 5,
   "metadata": {
    "collapsed": false
   },
   "outputs": [],
   "source": [
    "# importar el csv \n",
    "df=pd.read_csv(\"evolMargen.csv\",\n",
    "               sep=';',\n",
    "               parse_dates=['FECDATO'])\n",
    "\n",
    "#df=pd.read_csv(\"searches.csv.bz2\",sep='^',usecols=['Date','Destination'],parse_dates=['Date'])\n",
    "\n",
    "# 1e5 = 100000%pylab inline"
   ]
  },
  {
   "cell_type": "code",
   "execution_count": 7,
   "metadata": {
    "collapsed": false
   },
   "outputs": [],
   "source": [
    "def mes(fecha):\n",
    "    return fecha.month"
   ]
  },
  {
   "cell_type": "code",
   "execution_count": 8,
   "metadata": {
    "collapsed": false
   },
   "outputs": [
    {
     "data": {
      "text/plain": [
       "1"
      ]
     },
     "execution_count": 8,
     "metadata": {},
     "output_type": "execute_result"
    }
   ],
   "source": [
    "mes(df.FECDATO[1])"
   ]
  },
  {
   "cell_type": "code",
   "execution_count": 10,
   "metadata": {
    "collapsed": false
   },
   "outputs": [],
   "source": [
    "df[\"MES\"]=df.FECDATO.apply(mes)"
   ]
  },
  {
   "cell_type": "code",
   "execution_count": 11,
   "metadata": {
    "collapsed": false
   },
   "outputs": [
    {
     "data": {
      "text/html": [
       "<div>\n",
       "<table border=\"1\" class=\"dataframe\">\n",
       "  <thead>\n",
       "    <tr style=\"text-align: right;\">\n",
       "      <th></th>\n",
       "      <th>SECCION</th>\n",
       "      <th>GRUPOFAM</th>\n",
       "      <th>FAMILIA</th>\n",
       "      <th>TIPDATO</th>\n",
       "      <th>COMPET</th>\n",
       "      <th>FECDATO</th>\n",
       "      <th>NUMITEM</th>\n",
       "      <th>IMPVENTA</th>\n",
       "      <th>VALOR</th>\n",
       "      <th>MES</th>\n",
       "    </tr>\n",
       "  </thead>\n",
       "  <tbody>\n",
       "    <tr>\n",
       "      <th>4837</th>\n",
       "      <td>11</td>\n",
       "      <td>4</td>\n",
       "      <td>560445</td>\n",
       "      <td>M</td>\n",
       "      <td>PPROV</td>\n",
       "      <td>2015-08-31</td>\n",
       "      <td>3</td>\n",
       "      <td>30264</td>\n",
       "      <td>30.05</td>\n",
       "      <td>8</td>\n",
       "    </tr>\n",
       "    <tr>\n",
       "      <th>19223</th>\n",
       "      <td>15</td>\n",
       "      <td>4</td>\n",
       "      <td>500475</td>\n",
       "      <td>M</td>\n",
       "      <td>PPROV</td>\n",
       "      <td>2015-09-02</td>\n",
       "      <td>9</td>\n",
       "      <td>557820</td>\n",
       "      <td>16.92</td>\n",
       "      <td>9</td>\n",
       "    </tr>\n",
       "    <tr>\n",
       "      <th>20075</th>\n",
       "      <td>11</td>\n",
       "      <td>99</td>\n",
       "      <td>510009</td>\n",
       "      <td>M</td>\n",
       "      <td>PPROV</td>\n",
       "      <td>2015-09-02</td>\n",
       "      <td>5</td>\n",
       "      <td>44160</td>\n",
       "      <td>30.55</td>\n",
       "      <td>9</td>\n",
       "    </tr>\n",
       "    <tr>\n",
       "      <th>13598</th>\n",
       "      <td>10</td>\n",
       "      <td>99</td>\n",
       "      <td>559667</td>\n",
       "      <td>M</td>\n",
       "      <td>PPROV</td>\n",
       "      <td>2015-10-08</td>\n",
       "      <td>1</td>\n",
       "      <td>368</td>\n",
       "      <td>39.38</td>\n",
       "      <td>10</td>\n",
       "    </tr>\n",
       "    <tr>\n",
       "      <th>17777</th>\n",
       "      <td>14</td>\n",
       "      <td>99</td>\n",
       "      <td>544031</td>\n",
       "      <td>M</td>\n",
       "      <td>PPROV</td>\n",
       "      <td>2015-10-14</td>\n",
       "      <td>1</td>\n",
       "      <td>34244</td>\n",
       "      <td>46.96</td>\n",
       "      <td>10</td>\n",
       "    </tr>\n",
       "    <tr>\n",
       "      <th>26427</th>\n",
       "      <td>15</td>\n",
       "      <td>4</td>\n",
       "      <td>510667</td>\n",
       "      <td>M</td>\n",
       "      <td>PPROV</td>\n",
       "      <td>2015-12-27</td>\n",
       "      <td>5</td>\n",
       "      <td>38800</td>\n",
       "      <td>34.36</td>\n",
       "      <td>12</td>\n",
       "    </tr>\n",
       "    <tr>\n",
       "      <th>18904</th>\n",
       "      <td>14</td>\n",
       "      <td>99</td>\n",
       "      <td>569392</td>\n",
       "      <td>M</td>\n",
       "      <td>PPROV</td>\n",
       "      <td>2015-09-02</td>\n",
       "      <td>4</td>\n",
       "      <td>70810</td>\n",
       "      <td>14.86</td>\n",
       "      <td>9</td>\n",
       "    </tr>\n",
       "    <tr>\n",
       "      <th>16485</th>\n",
       "      <td>14</td>\n",
       "      <td>5</td>\n",
       "      <td>544734</td>\n",
       "      <td>M</td>\n",
       "      <td>PPROV</td>\n",
       "      <td>2015-10-14</td>\n",
       "      <td>3</td>\n",
       "      <td>1856</td>\n",
       "      <td>13.20</td>\n",
       "      <td>10</td>\n",
       "    </tr>\n",
       "    <tr>\n",
       "      <th>15673</th>\n",
       "      <td>11</td>\n",
       "      <td>4</td>\n",
       "      <td>2586</td>\n",
       "      <td>M</td>\n",
       "      <td>PPROV</td>\n",
       "      <td>2015-10-14</td>\n",
       "      <td>1</td>\n",
       "      <td>314</td>\n",
       "      <td>36.20</td>\n",
       "      <td>10</td>\n",
       "    </tr>\n",
       "    <tr>\n",
       "      <th>19988</th>\n",
       "      <td>11</td>\n",
       "      <td>99</td>\n",
       "      <td>500238</td>\n",
       "      <td>M</td>\n",
       "      <td>PPROV</td>\n",
       "      <td>2015-09-02</td>\n",
       "      <td>29</td>\n",
       "      <td>205268</td>\n",
       "      <td>13.08</td>\n",
       "      <td>9</td>\n",
       "    </tr>\n",
       "  </tbody>\n",
       "</table>\n",
       "</div>"
      ],
      "text/plain": [
       "       SECCION  GRUPOFAM  FAMILIA TIPDATO COMPET    FECDATO  NUMITEM  \\\n",
       "4837        11         4   560445       M  PPROV 2015-08-31        3   \n",
       "19223       15         4   500475       M  PPROV 2015-09-02        9   \n",
       "20075       11        99   510009       M  PPROV 2015-09-02        5   \n",
       "13598       10        99   559667       M  PPROV 2015-10-08        1   \n",
       "17777       14        99   544031       M  PPROV 2015-10-14        1   \n",
       "26427       15         4   510667       M  PPROV 2015-12-27        5   \n",
       "18904       14        99   569392       M  PPROV 2015-09-02        4   \n",
       "16485       14         5   544734       M  PPROV 2015-10-14        3   \n",
       "15673       11         4     2586       M  PPROV 2015-10-14        1   \n",
       "19988       11        99   500238       M  PPROV 2015-09-02       29   \n",
       "\n",
       "       IMPVENTA  VALOR  MES  \n",
       "4837      30264  30.05    8  \n",
       "19223    557820  16.92    9  \n",
       "20075     44160  30.55    9  \n",
       "13598       368  39.38   10  \n",
       "17777     34244  46.96   10  \n",
       "26427     38800  34.36   12  \n",
       "18904     70810  14.86    9  \n",
       "16485      1856  13.20   10  \n",
       "15673       314  36.20   10  \n",
       "19988    205268  13.08    9  "
      ]
     },
     "execution_count": 11,
     "metadata": {},
     "output_type": "execute_result"
    }
   ],
   "source": [
    "df.sample(10)"
   ]
  },
  {
   "cell_type": "code",
   "execution_count": 21,
   "metadata": {
    "collapsed": false
   },
   "outputs": [],
   "source": [
    "cond=(df.GRUPOFAM==99)&(df.FAMILIA==99)&(df.SECCION==10)\n",
    "df2=df[cond]"
   ]
  },
  {
   "cell_type": "code",
   "execution_count": 25,
   "metadata": {
    "collapsed": false
   },
   "outputs": [],
   "source": [
    "printDf=df2[[\"FECDATO\",\"VALOR\"]]"
   ]
  },
  {
   "cell_type": "code",
   "execution_count": 28,
   "metadata": {
    "collapsed": false
   },
   "outputs": [
    {
     "data": {
      "text/plain": [
       "(15, 25)"
      ]
     },
     "execution_count": 28,
     "metadata": {},
     "output_type": "execute_result"
    },
    {
     "data": {
      "image/png": "[encoded data removed]",
      "text/plain": [
       "<matplotlib.figure.Figure at 0x7f879a5f7410>"
      ]
     },
     "metadata": {},
     "output_type": "display_data"
    }
   ],
   "source": [
    "printDf.plot(grid=True)\n",
    "plt.ylim(15,25)       # escala del eje y de 0 al valor máx de la serie+3000\n",
    "\n",
    "# Great!!! si pasas un dataFrame a plot te pinta cada columna"
   ]
  },
  {
   "cell_type": "code",
   "execution_count": 29,
   "metadata": {
    "collapsed": false
   },
   "outputs": [],
   "source": [
    "def evSeccion(sec):\n",
    "    cond=(df.GRUPOFAM==99)&(df.FAMILIA==99)&(df.SECCION==sec)\n",
    "    df2=df[cond]\n",
    "    printDf=df2[[\"FECDATO\",\"VALOR\"]]\n",
    "    printDf.plot(grid=True)\n",
    "    plt.ylim(15,25) \n",
    "    \n",
    "    "
   ]
  },
  {
   "cell_type": "code",
   "execution_count": 31,
   "metadata": {
    "collapsed": false
   },
   "outputs": [
    {
     "data": {
      "image/png": "[encoded data removed]",
      "text/plain": [
       "<matplotlib.figure.Figure at 0x7f879a47e0d0>"
      ]
     },
     "metadata": {},
     "output_type": "display_data"
    }
   ],
   "source": [
    "evSeccion(15)"
   ]
  },
  {
   "cell_type": "code",
   "execution_count": 32,
   "metadata": {
    "collapsed": true
   },
   "outputs": [],
   "source": [
    "def evGrupo(sec,gr):\n",
    "    cond=(df.GRUPOFAM==gr)&(df.FAMILIA==99)&(df.SECCION==sec)\n",
    "    df2=df[cond]\n",
    "    printDf=df2[[\"FECDATO\",\"VALOR\"]]\n",
    "    printDf.plot(grid=True)\n",
    "    plt.ylim(5,35) \n",
    "    "
   ]
  },
  {
   "cell_type": "code",
   "execution_count": 33,
   "metadata": {
    "collapsed": false
   },
   "outputs": [
    {
     "data": {
      "image/png": "[encoded data removed]",
      "text/plain": [
       "<matplotlib.figure.Figure at 0x7f879a4dcfd0>"
      ]
     },
     "metadata": {},
     "output_type": "display_data"
    }
   ],
   "source": [
    "evGrupo(15,2)"
   ]
  },
  {
   "cell_type": "code",
   "execution_count": 34,
   "metadata": {
    "collapsed": true
   },
   "outputs": [],
   "source": [
    "cond=(df.GRUPOFAM==99)&(df.FAMILIA==99)&(df.SECCION!=99)"
   ]
  },
  {
   "cell_type": "code",
   "execution_count": 36,
   "metadata": {
    "collapsed": false
   },
   "outputs": [],
   "source": [
    "dfSec=df[cond]"
   ]
  },
  {
   "cell_type": "code",
   "execution_count": 39,
   "metadata": {
    "collapsed": false
   },
   "outputs": [],
   "source": [
    "dfSec=dfSec[[\"SECCION\",\"FECDATO\",\"VALOR\"]]"
   ]
  },
  {
   "cell_type": "code",
   "execution_count": 43,
   "metadata": {
    "collapsed": false
   },
   "outputs": [],
   "source": [
    "dfSecPivot=dfSec.pivot('FECDATO','SECCION','VALOR')"
   ]
  },
  {
   "cell_type": "code",
   "execution_count": 44,
   "metadata": {
    "collapsed": false
   },
   "outputs": [
    {
     "data": {
      "text/plain": [
       "<matplotlib.axes._subplots.AxesSubplot at 0x7f879a4dcb90>"
      ]
     },
     "execution_count": 44,
     "metadata": {},
     "output_type": "execute_result"
    },
    {
     "data": {
      "image/png": "[encoded data removed]",
      "text/plain": [
       "<matplotlib.figure.Figure at 0x7f879a5f7390>"
      ]
     },
     "metadata": {},
     "output_type": "display_data"
    }
   ],
   "source": [
    "dfSecPivot.plot(grid=True)\n",
    "\n",
    "# Great!!! si pasas un dataFrame a plot te pinta cada columna"
   ]
  },
  {
   "cell_type": "code",
   "execution_count": null,
   "metadata": {
    "collapsed": true
   },
   "outputs": [],
   "source": []
  }
 ],
 "metadata": {
  "kernelspec": {
   "display_name": "Python 2",
   "language": "python",
   "name": "python2"
  },
  "language_info": {
   "codemirror_mode": {
    "name": "ipython",
    "version": 2
   },
   "file_extension": ".py",
   "mimetype": "text/x-python",
   "name": "python",
   "nbconvert_exporter": "python",
   "pygments_lexer": "ipython2",
   "version": "2.7.10"
  }
 },
 "nbformat": 4,
 "nbformat_minor": 0
}
