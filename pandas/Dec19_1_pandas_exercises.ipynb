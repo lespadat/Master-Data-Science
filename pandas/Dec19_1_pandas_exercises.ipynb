{
 "cells": [
  {
   "cell_type": "code",
   "execution_count": 4,
   "metadata": {
    "collapsed": true
   },
   "outputs": [],
   "source": [
    "# siempre empezamos importando las librerias con las q vamos a trabajar\n",
    "\n",
    "import numpy as np\n",
    "import pandas as pd\n",
    "from pandas import DataFrame, Series\n",
    "import matplotlib.pyplot as plt\n",
    "%matplotlib inline"
   ]
  },
  {
   "cell_type": "code",
   "execution_count": 2,
   "metadata": {
    "collapsed": false
   },
   "outputs": [
    {
     "name": "stderr",
     "output_type": "stream",
     "text": [
      "/usr/lib64/python2.7/site-packages/pandas/io/parsers.py:1170: DtypeWarning: Columns (77,84,85) have mixed types. Specify dtype option on import or set low_memory=False.\n",
      "  data = self._reader.read(nrows)\n"
     ]
    }
   ],
   "source": [
    "# importar el csv (OJO con el directorio del csv)\n",
    "df=pd.read_csv(\"On_Time_On_Time_Performance_2015_1.csv\")"
   ]
  },
  {
   "cell_type": "code",
   "execution_count": 3,
   "metadata": {
    "collapsed": false
   },
   "outputs": [
    {
     "data": {
      "text/html": [
       "<div>\n",
       "<table border=\"1\" class=\"dataframe\">\n",
       "  <thead>\n",
       "    <tr style=\"text-align: right;\">\n",
       "      <th></th>\n",
       "      <th>Year</th>\n",
       "      <th>Quarter</th>\n",
       "      <th>Month</th>\n",
       "      <th>DayofMonth</th>\n",
       "      <th>DayOfWeek</th>\n",
       "      <th>FlightDate</th>\n",
       "      <th>UniqueCarrier</th>\n",
       "      <th>AirlineID</th>\n",
       "      <th>Carrier</th>\n",
       "      <th>TailNum</th>\n",
       "      <th>...</th>\n",
       "      <th>Div4TailNum</th>\n",
       "      <th>Div5Airport</th>\n",
       "      <th>Div5AirportID</th>\n",
       "      <th>Div5AirportSeqID</th>\n",
       "      <th>Div5WheelsOn</th>\n",
       "      <th>Div5TotalGTime</th>\n",
       "      <th>Div5LongestGTime</th>\n",
       "      <th>Div5WheelsOff</th>\n",
       "      <th>Div5TailNum</th>\n",
       "      <th>Unnamed: 109</th>\n",
       "    </tr>\n",
       "  </thead>\n",
       "  <tbody>\n",
       "    <tr>\n",
       "      <th>438335</th>\n",
       "      <td>2015</td>\n",
       "      <td>1</td>\n",
       "      <td>1</td>\n",
       "      <td>26</td>\n",
       "      <td>1</td>\n",
       "      <td>2015-01-26</td>\n",
       "      <td>F9</td>\n",
       "      <td>20436</td>\n",
       "      <td>F9</td>\n",
       "      <td>N227FR</td>\n",
       "      <td>...</td>\n",
       "      <td>NaN</td>\n",
       "      <td>NaN</td>\n",
       "      <td>NaN</td>\n",
       "      <td>NaN</td>\n",
       "      <td>NaN</td>\n",
       "      <td>NaN</td>\n",
       "      <td>NaN</td>\n",
       "      <td>NaN</td>\n",
       "      <td>NaN</td>\n",
       "      <td>NaN</td>\n",
       "    </tr>\n",
       "    <tr>\n",
       "      <th>388618</th>\n",
       "      <td>2015</td>\n",
       "      <td>1</td>\n",
       "      <td>1</td>\n",
       "      <td>4</td>\n",
       "      <td>7</td>\n",
       "      <td>2015-01-04</td>\n",
       "      <td>EV</td>\n",
       "      <td>20366</td>\n",
       "      <td>EV</td>\n",
       "      <td>N15555</td>\n",
       "      <td>...</td>\n",
       "      <td>NaN</td>\n",
       "      <td>NaN</td>\n",
       "      <td>NaN</td>\n",
       "      <td>NaN</td>\n",
       "      <td>NaN</td>\n",
       "      <td>NaN</td>\n",
       "      <td>NaN</td>\n",
       "      <td>NaN</td>\n",
       "      <td>NaN</td>\n",
       "      <td>NaN</td>\n",
       "    </tr>\n",
       "    <tr>\n",
       "      <th>269718</th>\n",
       "      <td>2015</td>\n",
       "      <td>1</td>\n",
       "      <td>1</td>\n",
       "      <td>25</td>\n",
       "      <td>7</td>\n",
       "      <td>2015-01-25</td>\n",
       "      <td>OO</td>\n",
       "      <td>20304</td>\n",
       "      <td>OO</td>\n",
       "      <td>N926SW</td>\n",
       "      <td>...</td>\n",
       "      <td>NaN</td>\n",
       "      <td>NaN</td>\n",
       "      <td>NaN</td>\n",
       "      <td>NaN</td>\n",
       "      <td>NaN</td>\n",
       "      <td>NaN</td>\n",
       "      <td>NaN</td>\n",
       "      <td>NaN</td>\n",
       "      <td>NaN</td>\n",
       "      <td>NaN</td>\n",
       "    </tr>\n",
       "    <tr>\n",
       "      <th>130967</th>\n",
       "      <td>2015</td>\n",
       "      <td>1</td>\n",
       "      <td>1</td>\n",
       "      <td>1</td>\n",
       "      <td>4</td>\n",
       "      <td>2015-01-01</td>\n",
       "      <td>WN</td>\n",
       "      <td>19393</td>\n",
       "      <td>WN</td>\n",
       "      <td>N630WN</td>\n",
       "      <td>...</td>\n",
       "      <td>NaN</td>\n",
       "      <td>NaN</td>\n",
       "      <td>NaN</td>\n",
       "      <td>NaN</td>\n",
       "      <td>NaN</td>\n",
       "      <td>NaN</td>\n",
       "      <td>NaN</td>\n",
       "      <td>NaN</td>\n",
       "      <td>NaN</td>\n",
       "      <td>NaN</td>\n",
       "    </tr>\n",
       "    <tr>\n",
       "      <th>409813</th>\n",
       "      <td>2015</td>\n",
       "      <td>1</td>\n",
       "      <td>1</td>\n",
       "      <td>14</td>\n",
       "      <td>3</td>\n",
       "      <td>2015-01-14</td>\n",
       "      <td>EV</td>\n",
       "      <td>20366</td>\n",
       "      <td>EV</td>\n",
       "      <td>N718EV</td>\n",
       "      <td>...</td>\n",
       "      <td>NaN</td>\n",
       "      <td>NaN</td>\n",
       "      <td>NaN</td>\n",
       "      <td>NaN</td>\n",
       "      <td>NaN</td>\n",
       "      <td>NaN</td>\n",
       "      <td>NaN</td>\n",
       "      <td>NaN</td>\n",
       "      <td>NaN</td>\n",
       "      <td>NaN</td>\n",
       "    </tr>\n",
       "    <tr>\n",
       "      <th>369613</th>\n",
       "      <td>2015</td>\n",
       "      <td>1</td>\n",
       "      <td>1</td>\n",
       "      <td>28</td>\n",
       "      <td>3</td>\n",
       "      <td>2015-01-28</td>\n",
       "      <td>DL</td>\n",
       "      <td>19790</td>\n",
       "      <td>DL</td>\n",
       "      <td>N539US</td>\n",
       "      <td>...</td>\n",
       "      <td>NaN</td>\n",
       "      <td>NaN</td>\n",
       "      <td>NaN</td>\n",
       "      <td>NaN</td>\n",
       "      <td>NaN</td>\n",
       "      <td>NaN</td>\n",
       "      <td>NaN</td>\n",
       "      <td>NaN</td>\n",
       "      <td>NaN</td>\n",
       "      <td>NaN</td>\n",
       "    </tr>\n",
       "    <tr>\n",
       "      <th>50311</th>\n",
       "      <td>2015</td>\n",
       "      <td>1</td>\n",
       "      <td>1</td>\n",
       "      <td>22</td>\n",
       "      <td>4</td>\n",
       "      <td>2015-01-22</td>\n",
       "      <td>AS</td>\n",
       "      <td>19930</td>\n",
       "      <td>AS</td>\n",
       "      <td>N302AS</td>\n",
       "      <td>...</td>\n",
       "      <td>NaN</td>\n",
       "      <td>NaN</td>\n",
       "      <td>NaN</td>\n",
       "      <td>NaN</td>\n",
       "      <td>NaN</td>\n",
       "      <td>NaN</td>\n",
       "      <td>NaN</td>\n",
       "      <td>NaN</td>\n",
       "      <td>NaN</td>\n",
       "      <td>NaN</td>\n",
       "    </tr>\n",
       "    <tr>\n",
       "      <th>350265</th>\n",
       "      <td>2015</td>\n",
       "      <td>1</td>\n",
       "      <td>1</td>\n",
       "      <td>23</td>\n",
       "      <td>5</td>\n",
       "      <td>2015-01-23</td>\n",
       "      <td>US</td>\n",
       "      <td>20355</td>\n",
       "      <td>US</td>\n",
       "      <td>N509AY</td>\n",
       "      <td>...</td>\n",
       "      <td>NaN</td>\n",
       "      <td>NaN</td>\n",
       "      <td>NaN</td>\n",
       "      <td>NaN</td>\n",
       "      <td>NaN</td>\n",
       "      <td>NaN</td>\n",
       "      <td>NaN</td>\n",
       "      <td>NaN</td>\n",
       "      <td>NaN</td>\n",
       "      <td>NaN</td>\n",
       "    </tr>\n",
       "    <tr>\n",
       "      <th>158413</th>\n",
       "      <td>2015</td>\n",
       "      <td>1</td>\n",
       "      <td>1</td>\n",
       "      <td>1</td>\n",
       "      <td>4</td>\n",
       "      <td>2015-01-01</td>\n",
       "      <td>UA</td>\n",
       "      <td>19977</td>\n",
       "      <td>UA</td>\n",
       "      <td>N38403</td>\n",
       "      <td>...</td>\n",
       "      <td>NaN</td>\n",
       "      <td>NaN</td>\n",
       "      <td>NaN</td>\n",
       "      <td>NaN</td>\n",
       "      <td>NaN</td>\n",
       "      <td>NaN</td>\n",
       "      <td>NaN</td>\n",
       "      <td>NaN</td>\n",
       "      <td>NaN</td>\n",
       "      <td>NaN</td>\n",
       "    </tr>\n",
       "    <tr>\n",
       "      <th>345567</th>\n",
       "      <td>2015</td>\n",
       "      <td>1</td>\n",
       "      <td>1</td>\n",
       "      <td>16</td>\n",
       "      <td>5</td>\n",
       "      <td>2015-01-16</td>\n",
       "      <td>US</td>\n",
       "      <td>20355</td>\n",
       "      <td>US</td>\n",
       "      <td>N677AW</td>\n",
       "      <td>...</td>\n",
       "      <td>NaN</td>\n",
       "      <td>NaN</td>\n",
       "      <td>NaN</td>\n",
       "      <td>NaN</td>\n",
       "      <td>NaN</td>\n",
       "      <td>NaN</td>\n",
       "      <td>NaN</td>\n",
       "      <td>NaN</td>\n",
       "      <td>NaN</td>\n",
       "      <td>NaN</td>\n",
       "    </tr>\n",
       "    <tr>\n",
       "      <th>197503</th>\n",
       "      <td>2015</td>\n",
       "      <td>1</td>\n",
       "      <td>1</td>\n",
       "      <td>22</td>\n",
       "      <td>4</td>\n",
       "      <td>2015-01-22</td>\n",
       "      <td>WN</td>\n",
       "      <td>19393</td>\n",
       "      <td>WN</td>\n",
       "      <td>N224WN</td>\n",
       "      <td>...</td>\n",
       "      <td>NaN</td>\n",
       "      <td>NaN</td>\n",
       "      <td>NaN</td>\n",
       "      <td>NaN</td>\n",
       "      <td>NaN</td>\n",
       "      <td>NaN</td>\n",
       "      <td>NaN</td>\n",
       "      <td>NaN</td>\n",
       "      <td>NaN</td>\n",
       "      <td>NaN</td>\n",
       "    </tr>\n",
       "    <tr>\n",
       "      <th>147036</th>\n",
       "      <td>2015</td>\n",
       "      <td>1</td>\n",
       "      <td>1</td>\n",
       "      <td>5</td>\n",
       "      <td>1</td>\n",
       "      <td>2015-01-05</td>\n",
       "      <td>WN</td>\n",
       "      <td>19393</td>\n",
       "      <td>WN</td>\n",
       "      <td>N356SW</td>\n",
       "      <td>...</td>\n",
       "      <td>NaN</td>\n",
       "      <td>NaN</td>\n",
       "      <td>NaN</td>\n",
       "      <td>NaN</td>\n",
       "      <td>NaN</td>\n",
       "      <td>NaN</td>\n",
       "      <td>NaN</td>\n",
       "      <td>NaN</td>\n",
       "      <td>NaN</td>\n",
       "      <td>NaN</td>\n",
       "    </tr>\n",
       "    <tr>\n",
       "      <th>366191</th>\n",
       "      <td>2015</td>\n",
       "      <td>1</td>\n",
       "      <td>1</td>\n",
       "      <td>27</td>\n",
       "      <td>2</td>\n",
       "      <td>2015-01-27</td>\n",
       "      <td>DL</td>\n",
       "      <td>19790</td>\n",
       "      <td>DL</td>\n",
       "      <td>N913DL</td>\n",
       "      <td>...</td>\n",
       "      <td>NaN</td>\n",
       "      <td>NaN</td>\n",
       "      <td>NaN</td>\n",
       "      <td>NaN</td>\n",
       "      <td>NaN</td>\n",
       "      <td>NaN</td>\n",
       "      <td>NaN</td>\n",
       "      <td>NaN</td>\n",
       "      <td>NaN</td>\n",
       "      <td>NaN</td>\n",
       "    </tr>\n",
       "    <tr>\n",
       "      <th>256353</th>\n",
       "      <td>2015</td>\n",
       "      <td>1</td>\n",
       "      <td>1</td>\n",
       "      <td>2</td>\n",
       "      <td>5</td>\n",
       "      <td>2015-01-02</td>\n",
       "      <td>OO</td>\n",
       "      <td>20304</td>\n",
       "      <td>OO</td>\n",
       "      <td>N223AG</td>\n",
       "      <td>...</td>\n",
       "      <td>NaN</td>\n",
       "      <td>NaN</td>\n",
       "      <td>NaN</td>\n",
       "      <td>NaN</td>\n",
       "      <td>NaN</td>\n",
       "      <td>NaN</td>\n",
       "      <td>NaN</td>\n",
       "      <td>NaN</td>\n",
       "      <td>NaN</td>\n",
       "      <td>NaN</td>\n",
       "    </tr>\n",
       "    <tr>\n",
       "      <th>447961</th>\n",
       "      <td>2015</td>\n",
       "      <td>1</td>\n",
       "      <td>1</td>\n",
       "      <td>17</td>\n",
       "      <td>6</td>\n",
       "      <td>2015-01-17</td>\n",
       "      <td>MQ</td>\n",
       "      <td>20398</td>\n",
       "      <td>MQ</td>\n",
       "      <td>N679MQ</td>\n",
       "      <td>...</td>\n",
       "      <td>NaN</td>\n",
       "      <td>NaN</td>\n",
       "      <td>NaN</td>\n",
       "      <td>NaN</td>\n",
       "      <td>NaN</td>\n",
       "      <td>NaN</td>\n",
       "      <td>NaN</td>\n",
       "      <td>NaN</td>\n",
       "      <td>NaN</td>\n",
       "      <td>NaN</td>\n",
       "    </tr>\n",
       "  </tbody>\n",
       "</table>\n",
       "<p>15 rows × 110 columns</p>\n",
       "</div>"
      ],
      "text/plain": [
       "        Year  Quarter  Month  DayofMonth  DayOfWeek  FlightDate UniqueCarrier  \\\n",
       "438335  2015        1      1          26          1  2015-01-26            F9   \n",
       "388618  2015        1      1           4          7  2015-01-04            EV   \n",
       "269718  2015        1      1          25          7  2015-01-25            OO   \n",
       "130967  2015        1      1           1          4  2015-01-01            WN   \n",
       "409813  2015        1      1          14          3  2015-01-14            EV   \n",
       "369613  2015        1      1          28          3  2015-01-28            DL   \n",
       "50311   2015        1      1          22          4  2015-01-22            AS   \n",
       "350265  2015        1      1          23          5  2015-01-23            US   \n",
       "158413  2015        1      1           1          4  2015-01-01            UA   \n",
       "345567  2015        1      1          16          5  2015-01-16            US   \n",
       "197503  2015        1      1          22          4  2015-01-22            WN   \n",
       "147036  2015        1      1           5          1  2015-01-05            WN   \n",
       "366191  2015        1      1          27          2  2015-01-27            DL   \n",
       "256353  2015        1      1           2          5  2015-01-02            OO   \n",
       "447961  2015        1      1          17          6  2015-01-17            MQ   \n",
       "\n",
       "        AirlineID Carrier TailNum      ...       Div4TailNum  Div5Airport  \\\n",
       "438335      20436      F9  N227FR      ...               NaN          NaN   \n",
       "388618      20366      EV  N15555      ...               NaN          NaN   \n",
       "269718      20304      OO  N926SW      ...               NaN          NaN   \n",
       "130967      19393      WN  N630WN      ...               NaN          NaN   \n",
       "409813      20366      EV  N718EV      ...               NaN          NaN   \n",
       "369613      19790      DL  N539US      ...               NaN          NaN   \n",
       "50311       19930      AS  N302AS      ...               NaN          NaN   \n",
       "350265      20355      US  N509AY      ...               NaN          NaN   \n",
       "158413      19977      UA  N38403      ...               NaN          NaN   \n",
       "345567      20355      US  N677AW      ...               NaN          NaN   \n",
       "197503      19393      WN  N224WN      ...               NaN          NaN   \n",
       "147036      19393      WN  N356SW      ...               NaN          NaN   \n",
       "366191      19790      DL  N913DL      ...               NaN          NaN   \n",
       "256353      20304      OO  N223AG      ...               NaN          NaN   \n",
       "447961      20398      MQ  N679MQ      ...               NaN          NaN   \n",
       "\n",
       "        Div5AirportID  Div5AirportSeqID Div5WheelsOn Div5TotalGTime  \\\n",
       "438335            NaN               NaN          NaN            NaN   \n",
       "388618            NaN               NaN          NaN            NaN   \n",
       "269718            NaN               NaN          NaN            NaN   \n",
       "130967            NaN               NaN          NaN            NaN   \n",
       "409813            NaN               NaN          NaN            NaN   \n",
       "369613            NaN               NaN          NaN            NaN   \n",
       "50311             NaN               NaN          NaN            NaN   \n",
       "350265            NaN               NaN          NaN            NaN   \n",
       "158413            NaN               NaN          NaN            NaN   \n",
       "345567            NaN               NaN          NaN            NaN   \n",
       "197503            NaN               NaN          NaN            NaN   \n",
       "147036            NaN               NaN          NaN            NaN   \n",
       "366191            NaN               NaN          NaN            NaN   \n",
       "256353            NaN               NaN          NaN            NaN   \n",
       "447961            NaN               NaN          NaN            NaN   \n",
       "\n",
       "       Div5LongestGTime  Div5WheelsOff Div5TailNum  Unnamed: 109  \n",
       "438335              NaN            NaN         NaN           NaN  \n",
       "388618              NaN            NaN         NaN           NaN  \n",
       "269718              NaN            NaN         NaN           NaN  \n",
       "130967              NaN            NaN         NaN           NaN  \n",
       "409813              NaN            NaN         NaN           NaN  \n",
       "369613              NaN            NaN         NaN           NaN  \n",
       "50311               NaN            NaN         NaN           NaN  \n",
       "350265              NaN            NaN         NaN           NaN  \n",
       "158413              NaN            NaN         NaN           NaN  \n",
       "345567              NaN            NaN         NaN           NaN  \n",
       "197503              NaN            NaN         NaN           NaN  \n",
       "147036              NaN            NaN         NaN           NaN  \n",
       "366191              NaN            NaN         NaN           NaN  \n",
       "256353              NaN            NaN         NaN           NaN  \n",
       "447961              NaN            NaN         NaN           NaN  \n",
       "\n",
       "[15 rows x 110 columns]"
      ]
     },
     "execution_count": 3,
     "metadata": {},
     "output_type": "execute_result"
    }
   ],
   "source": [
    "df.sample(15)"
   ]
  },
  {
   "cell_type": "code",
   "execution_count": 5,
   "metadata": {
    "collapsed": false
   },
   "outputs": [
    {
     "data": {
      "text/plain": [
       "Index([u'Year', u'Quarter', u'Month', u'DayofMonth', u'DayOfWeek',\n",
       "       u'FlightDate', u'UniqueCarrier', u'AirlineID', u'Carrier', u'TailNum', \n",
       "       ...\n",
       "       u'Div4TailNum', u'Div5Airport', u'Div5AirportID', u'Div5AirportSeqID',\n",
       "       u'Div5WheelsOn', u'Div5TotalGTime', u'Div5LongestGTime',\n",
       "       u'Div5WheelsOff', u'Div5TailNum', u'Unnamed: 109'],\n",
       "      dtype='object', length=110)"
      ]
     },
     "execution_count": 5,
     "metadata": {},
     "output_type": "execute_result"
    }
   ],
   "source": [
    "df.columns"
   ]
  },
  {
   "cell_type": "markdown",
   "metadata": {},
   "source": [
    "vamos a hacer ejercicios con el mismo fichero q ayer"
   ]
  },
  {
   "cell_type": "code",
   "execution_count": 6,
   "metadata": {
    "collapsed": false
   },
   "outputs": [
    {
     "data": {
      "text/plain": [
       "469968"
      ]
     },
     "execution_count": 6,
     "metadata": {},
     "output_type": "execute_result"
    }
   ],
   "source": [
    "# número de filas\n",
    "\n",
    "len(df)"
   ]
  },
  {
   "cell_type": "code",
   "execution_count": 8,
   "metadata": {
    "collapsed": false
   },
   "outputs": [
    {
     "data": {
      "text/plain": [
       "Index([u'Year', u'Quarter', u'Month', u'DayofMonth', u'DayOfWeek',\n",
       "       u'FlightDate', u'UniqueCarrier', u'AirlineID', u'Carrier', u'TailNum', \n",
       "       ...\n",
       "       u'Div4TailNum', u'Div5Airport', u'Div5AirportID', u'Div5AirportSeqID',\n",
       "       u'Div5WheelsOn', u'Div5TotalGTime', u'Div5LongestGTime',\n",
       "       u'Div5WheelsOff', u'Div5TailNum', u'Unnamed: 109'],\n",
       "      dtype='object', length=110)"
      ]
     },
     "execution_count": 8,
     "metadata": {},
     "output_type": "execute_result"
    }
   ],
   "source": [
    "# número de columnas\n",
    "\n",
    "df.columns\n",
    "\n",
    "# en la salida lo indica length=110"
   ]
  },
  {
   "cell_type": "code",
   "execution_count": 9,
   "metadata": {
    "collapsed": false
   },
   "outputs": [
    {
     "data": {
      "text/plain": [
       "Year                  469968\n",
       "Quarter               469968\n",
       "Month                 469968\n",
       "DayofMonth            469968\n",
       "DayOfWeek             469968\n",
       "FlightDate            469968\n",
       "UniqueCarrier         469968\n",
       "AirlineID             469968\n",
       "Carrier               469968\n",
       "TailNum               467186\n",
       "FlightNum             469968\n",
       "OriginAirportID       469968\n",
       "OriginAirportSeqID    469968\n",
       "OriginCityMarketID    469968\n",
       "Origin                469968\n",
       "OriginCityName        469968\n",
       "OriginState           469968\n",
       "OriginStateFips       469968\n",
       "OriginStateName       469968\n",
       "OriginWac             469968\n",
       "DestAirportID         469968\n",
       "DestAirportSeqID      469968\n",
       "DestCityMarketID      469968\n",
       "Dest                  469968\n",
       "DestCityName          469968\n",
       "DestState             469968\n",
       "DestStateFips         469968\n",
       "DestStateName         469968\n",
       "DestWac               469968\n",
       "CRSDepTime            469968\n",
       "                       ...  \n",
       "Div2WheelsOn              27\n",
       "Div2TotalGTime            27\n",
       "Div2LongestGTime          27\n",
       "Div2WheelsOff              9\n",
       "Div2TailNum                9\n",
       "Div3Airport                2\n",
       "Div3AirportID              2\n",
       "Div3AirportSeqID           2\n",
       "Div3WheelsOn               2\n",
       "Div3TotalGTime             2\n",
       "Div3LongestGTime           2\n",
       "Div3WheelsOff              0\n",
       "Div3TailNum                0\n",
       "Div4Airport                0\n",
       "Div4AirportID              0\n",
       "Div4AirportSeqID           0\n",
       "Div4WheelsOn               0\n",
       "Div4TotalGTime             0\n",
       "Div4LongestGTime           0\n",
       "Div4WheelsOff              0\n",
       "Div4TailNum                0\n",
       "Div5Airport                0\n",
       "Div5AirportID              0\n",
       "Div5AirportSeqID           0\n",
       "Div5WheelsOn               0\n",
       "Div5TotalGTime             0\n",
       "Div5LongestGTime           0\n",
       "Div5WheelsOff              0\n",
       "Div5TailNum                0\n",
       "Unnamed: 109               0\n",
       "dtype: int64"
      ]
     },
     "execution_count": 9,
     "metadata": {},
     "output_type": "execute_result"
    }
   ],
   "source": [
    "# número de registros con datos x columna\n",
    "\n",
    "df.count()"
   ]
  },
  {
   "cell_type": "code",
   "execution_count": 10,
   "metadata": {
    "collapsed": false
   },
   "outputs": [
    {
     "data": {
      "image/png": "[encoded data removed]",
      "text/plain": [
       "<matplotlib.figure.Figure at 0x7f421403c7d0>"
      ]
     },
     "metadata": {},
     "output_type": "display_data"
    }
   ],
   "source": [
    "# vamos a hacer gráfico de barras con la serie anterior (datos que no son NaN x columna)\n",
    "\n",
    "locx=range(len(df.columns))\n",
    "plt.bar(locx,df.count())\n",
    "plt.show()"
   ]
  },
  {
   "cell_type": "code",
   "execution_count": 11,
   "metadata": {
    "collapsed": true
   },
   "outputs": [],
   "source": [
    "# con ese gráfico veo que hay muchas columnas q no tienen datos, vamos a quitarlas\n",
    "\n",
    "columnCount=df.count()\n",
    "\n",
    "# crea una lista con columnas y número registros con datos"
   ]
  },
  {
   "cell_type": "code",
   "execution_count": 14,
   "metadata": {
    "collapsed": true
   },
   "outputs": [],
   "source": [
    "# con las lista tb se puede operar con condiciones y devuelve una lista booleana\n",
    "\n",
    "# creo una lista con 110 False\n",
    "falseList=[False for x in range(110)]"
   ]
  },
  {
   "cell_type": "code",
   "execution_count": 15,
   "metadata": {
    "collapsed": false
   },
   "outputs": [
    {
     "data": {
      "text/plain": [
       "Series([], dtype: int64)"
      ]
     },
     "execution_count": 15,
     "metadata": {},
     "output_type": "execute_result"
    }
   ],
   "source": [
    "# si aplico la lista de Falses a la serie columnCount no devuelve nada\n",
    "\n",
    "columnCount[falseList]"
   ]
  },
  {
   "cell_type": "code",
   "execution_count": 17,
   "metadata": {
    "collapsed": false
   },
   "outputs": [
    {
     "data": {
      "text/plain": [
       "Year                   True\n",
       "Quarter                True\n",
       "Month                  True\n",
       "DayofMonth             True\n",
       "DayOfWeek              True\n",
       "FlightDate             True\n",
       "UniqueCarrier          True\n",
       "AirlineID              True\n",
       "Carrier                True\n",
       "TailNum                True\n",
       "FlightNum              True\n",
       "OriginAirportID        True\n",
       "OriginAirportSeqID     True\n",
       "OriginCityMarketID     True\n",
       "Origin                 True\n",
       "OriginCityName         True\n",
       "OriginState            True\n",
       "OriginStateFips        True\n",
       "OriginStateName        True\n",
       "OriginWac              True\n",
       "DestAirportID          True\n",
       "DestAirportSeqID       True\n",
       "DestCityMarketID       True\n",
       "Dest                   True\n",
       "DestCityName           True\n",
       "DestState              True\n",
       "DestStateFips          True\n",
       "DestStateName          True\n",
       "DestWac                True\n",
       "CRSDepTime             True\n",
       "                      ...  \n",
       "Div2WheelsOn          False\n",
       "Div2TotalGTime        False\n",
       "Div2LongestGTime      False\n",
       "Div2WheelsOff         False\n",
       "Div2TailNum           False\n",
       "Div3Airport           False\n",
       "Div3AirportID         False\n",
       "Div3AirportSeqID      False\n",
       "Div3WheelsOn          False\n",
       "Div3TotalGTime        False\n",
       "Div3LongestGTime      False\n",
       "Div3WheelsOff         False\n",
       "Div3TailNum           False\n",
       "Div4Airport           False\n",
       "Div4AirportID         False\n",
       "Div4AirportSeqID      False\n",
       "Div4WheelsOn          False\n",
       "Div4TotalGTime        False\n",
       "Div4LongestGTime      False\n",
       "Div4WheelsOff         False\n",
       "Div4TailNum           False\n",
       "Div5Airport           False\n",
       "Div5AirportID         False\n",
       "Div5AirportSeqID      False\n",
       "Div5WheelsOn          False\n",
       "Div5TotalGTime        False\n",
       "Div5LongestGTime      False\n",
       "Div5WheelsOff         False\n",
       "Div5TailNum           False\n",
       "Unnamed: 109          False\n",
       "dtype: bool"
      ]
     },
     "execution_count": 17,
     "metadata": {},
     "output_type": "execute_result"
    }
   ],
   "source": [
    "# ahora aplico condición a la serie\n",
    "columnCount>1000   # devuelve serie booleana\n"
   ]
  },
  {
   "cell_type": "code",
   "execution_count": 19,
   "metadata": {
    "collapsed": false
   },
   "outputs": [],
   "source": [
    "# aplicada sobre la propia serie ya devuelve las columnas q cumplen la condición\n",
    "\n",
    "colSignificative = columnCount[columnCount>1000]"
   ]
  },
  {
   "cell_type": "code",
   "execution_count": 21,
   "metadata": {
    "collapsed": false
   },
   "outputs": [
    {
     "data": {
      "image/png": "[encoded data removed]",
      "text/plain": [
       "<matplotlib.figure.Figure at 0x7f41ee550ed0>"
      ]
     },
     "metadata": {},
     "output_type": "display_data"
    }
   ],
   "source": [
    "# ploteamos la nueva serie\n",
    "locx=range(len(colSignificative))\n",
    "plt.bar(locx,colSignificative)\n",
    "plt.show()"
   ]
  },
  {
   "cell_type": "code",
   "execution_count": 32,
   "metadata": {
    "collapsed": true
   },
   "outputs": [],
   "source": [
    "# ahora vamos a tomar del DataFrame estas columnas\n",
    "\n",
    "# colSignificative es una serie con un indice con el nombre de la columna y un dato con el Count\n",
    "# paso al DataFrame el indice, es decir, el nombre de las columnas q nos interesan\n",
    "\n",
    "# reemplazamos el DataFrame\n",
    "\n",
    "df=df[colSignificative.index]"
   ]
  },
  {
   "cell_type": "code",
   "execution_count": 36,
   "metadata": {
    "collapsed": false
   },
   "outputs": [
    {
     "data": {
      "text/plain": [
       "Index([u'OriginAirportID', u'OriginAirportSeqID', u'OriginCityMarketID',\n",
       "       u'Origin', u'OriginCityName', u'OriginState', u'OriginStateFips',\n",
       "       u'OriginStateName', u'OriginWac'],\n",
       "      dtype='object')"
      ]
     },
     "execution_count": 36,
     "metadata": {},
     "output_type": "execute_result"
    }
   ],
   "source": [
    "# las columnas q contiene en el nombre \"Origin\"\n",
    "\n",
    "df.columns[df.columns.str.contains(\"Origin\")]"
   ]
  },
  {
   "cell_type": "code",
   "execution_count": 38,
   "metadata": {
    "collapsed": false
   },
   "outputs": [
    {
     "data": {
      "text/plain": [
       "109921                     Baltimore, MD\n",
       "429615                       Phoenix, AZ\n",
       "3406                      Washington, DC\n",
       "71764     West Palm Beach/Palm Beach, FL\n",
       "299896                        Albany, NY\n",
       "14632              Dallas/Fort Worth, TX\n",
       "8222                           Miami, FL\n",
       "313132                       Seattle, WA\n",
       "95752                          Tampa, FL\n",
       "188253                     Baltimore, MD\n",
       "Name: OriginCityName, dtype: object"
      ]
     },
     "execution_count": 38,
     "metadata": {},
     "output_type": "execute_result"
    }
   ],
   "source": [
    "# parecen bastante redundantes, para ver unos ejemplos de una\n",
    "\n",
    "df[\"OriginCityName\"].sample(10)"
   ]
  },
  {
   "cell_type": "code",
   "execution_count": 42,
   "metadata": {
    "collapsed": false
   },
   "outputs": [
    {
     "data": {
      "text/plain": [
       "Index([u'DestAirportID', u'DestAirportSeqID', u'DestCityMarketID', u'Dest',\n",
       "       u'DestCityName', u'DestState', u'DestStateFips', u'DestStateName',\n",
       "       u'DestWac'],\n",
       "      dtype='object')"
      ]
     },
     "execution_count": 42,
     "metadata": {},
     "output_type": "execute_result"
    }
   ],
   "source": [
    "# lo mismo con las que contiene Destination\n",
    "df.columns[df.columns.str.contains(\"Dest\")]\n",
    "\n",
    "\n",
    "# esta salida en un tipo INDEX"
   ]
  },
  {
   "cell_type": "code",
   "execution_count": 50,
   "metadata": {
    "collapsed": false
   },
   "outputs": [],
   "source": [
    "# tratamiento de index\n",
    "\n",
    "i1=pd.Index([0,1,2])\n",
    "i2=pd.Index([1,2,3])"
   ]
  },
  {
   "cell_type": "code",
   "execution_count": 51,
   "metadata": {
    "collapsed": false
   },
   "outputs": [
    {
     "data": {
      "text/plain": [
       "Int64Index([0, 1, 2, 3], dtype='int64')"
      ]
     },
     "execution_count": 51,
     "metadata": {},
     "output_type": "execute_result"
    }
   ],
   "source": [
    "# el pipe es el operador OR\n",
    "\n",
    "i1|i2\n",
    "\n",
    "# el resultado es un nuevo index con los valores que están en uno o en otro"
   ]
  },
  {
   "cell_type": "code",
   "execution_count": 53,
   "metadata": {
    "collapsed": false
   },
   "outputs": [
    {
     "data": {
      "text/plain": [
       "Int64Index([1, 2], dtype='int64')"
      ]
     },
     "execution_count": 53,
     "metadata": {},
     "output_type": "execute_result"
    }
   ],
   "source": [
    "# & = and\n",
    "\n",
    "i1&i2\n",
    "\n",
    "# los coincidentes"
   ]
  },
  {
   "cell_type": "code",
   "execution_count": 56,
   "metadata": {
    "collapsed": true
   },
   "outputs": [],
   "source": [
    "# ahora lo mismo con indices de series de columnas\n",
    "\n",
    "colOrigin=df.columns[df.columns.str.contains(\"Origin\")]\n",
    "colDest=df.columns[df.columns.str.contains(\"Dest\")]"
   ]
  },
  {
   "cell_type": "code",
   "execution_count": 57,
   "metadata": {
    "collapsed": false
   },
   "outputs": [
    {
     "data": {
      "text/plain": [
       "Index([u'Dest', u'DestAirportID', u'DestAirportSeqID', u'DestCityMarketID',\n",
       "       u'DestCityName', u'DestState', u'DestStateFips', u'DestStateName',\n",
       "       u'DestWac', u'Origin', u'OriginAirportID', u'OriginAirportSeqID',\n",
       "       u'OriginCityMarketID', u'OriginCityName', u'OriginState',\n",
       "       u'OriginStateFips', u'OriginStateName', u'OriginWac'],\n",
       "      dtype='object')"
      ]
     },
     "execution_count": 57,
     "metadata": {},
     "output_type": "execute_result"
    }
   ],
   "source": [
    "# nuevo indice con las dos series\n",
    "colOrigin|colDest"
   ]
  },
  {
   "cell_type": "code",
   "execution_count": 59,
   "metadata": {
    "collapsed": false
   },
   "outputs": [
    {
     "data": {
      "text/html": [
       "<div>\n",
       "<table border=\"1\" class=\"dataframe\">\n",
       "  <thead>\n",
       "    <tr style=\"text-align: right;\">\n",
       "      <th></th>\n",
       "      <th>Dest</th>\n",
       "      <th>DestAirportID</th>\n",
       "      <th>DestAirportSeqID</th>\n",
       "      <th>DestCityMarketID</th>\n",
       "      <th>DestCityName</th>\n",
       "      <th>DestState</th>\n",
       "      <th>DestStateFips</th>\n",
       "      <th>DestStateName</th>\n",
       "      <th>DestWac</th>\n",
       "      <th>Origin</th>\n",
       "      <th>OriginAirportID</th>\n",
       "      <th>OriginAirportSeqID</th>\n",
       "      <th>OriginCityMarketID</th>\n",
       "      <th>OriginCityName</th>\n",
       "      <th>OriginState</th>\n",
       "      <th>OriginStateFips</th>\n",
       "      <th>OriginStateName</th>\n",
       "      <th>OriginWac</th>\n",
       "    </tr>\n",
       "  </thead>\n",
       "  <tbody>\n",
       "    <tr>\n",
       "      <th>194935</th>\n",
       "      <td>OAK</td>\n",
       "      <td>13796</td>\n",
       "      <td>1379603</td>\n",
       "      <td>32457</td>\n",
       "      <td>Oakland, CA</td>\n",
       "      <td>CA</td>\n",
       "      <td>6</td>\n",
       "      <td>California</td>\n",
       "      <td>91</td>\n",
       "      <td>PDX</td>\n",
       "      <td>14057</td>\n",
       "      <td>1405702</td>\n",
       "      <td>34057</td>\n",
       "      <td>Portland, OR</td>\n",
       "      <td>OR</td>\n",
       "      <td>41</td>\n",
       "      <td>Oregon</td>\n",
       "      <td>92</td>\n",
       "    </tr>\n",
       "    <tr>\n",
       "      <th>183265</th>\n",
       "      <td>BWI</td>\n",
       "      <td>10821</td>\n",
       "      <td>1082103</td>\n",
       "      <td>30852</td>\n",
       "      <td>Baltimore, MD</td>\n",
       "      <td>MD</td>\n",
       "      <td>24</td>\n",
       "      <td>Maryland</td>\n",
       "      <td>35</td>\n",
       "      <td>RSW</td>\n",
       "      <td>14635</td>\n",
       "      <td>1463502</td>\n",
       "      <td>31714</td>\n",
       "      <td>Fort Myers, FL</td>\n",
       "      <td>FL</td>\n",
       "      <td>12</td>\n",
       "      <td>Florida</td>\n",
       "      <td>33</td>\n",
       "    </tr>\n",
       "    <tr>\n",
       "      <th>218157</th>\n",
       "      <td>ATL</td>\n",
       "      <td>10397</td>\n",
       "      <td>1039705</td>\n",
       "      <td>30397</td>\n",
       "      <td>Atlanta, GA</td>\n",
       "      <td>GA</td>\n",
       "      <td>13</td>\n",
       "      <td>Georgia</td>\n",
       "      <td>34</td>\n",
       "      <td>RSW</td>\n",
       "      <td>14635</td>\n",
       "      <td>1463502</td>\n",
       "      <td>31714</td>\n",
       "      <td>Fort Myers, FL</td>\n",
       "      <td>FL</td>\n",
       "      <td>12</td>\n",
       "      <td>Florida</td>\n",
       "      <td>33</td>\n",
       "    </tr>\n",
       "    <tr>\n",
       "      <th>263802</th>\n",
       "      <td>LAX</td>\n",
       "      <td>12892</td>\n",
       "      <td>1289203</td>\n",
       "      <td>32575</td>\n",
       "      <td>Los Angeles, CA</td>\n",
       "      <td>CA</td>\n",
       "      <td>6</td>\n",
       "      <td>California</td>\n",
       "      <td>91</td>\n",
       "      <td>SBP</td>\n",
       "      <td>14698</td>\n",
       "      <td>1469802</td>\n",
       "      <td>34236</td>\n",
       "      <td>San Luis Obispo, CA</td>\n",
       "      <td>CA</td>\n",
       "      <td>6</td>\n",
       "      <td>California</td>\n",
       "      <td>91</td>\n",
       "    </tr>\n",
       "    <tr>\n",
       "      <th>180922</th>\n",
       "      <td>SNA</td>\n",
       "      <td>14908</td>\n",
       "      <td>1490803</td>\n",
       "      <td>32575</td>\n",
       "      <td>Santa Ana, CA</td>\n",
       "      <td>CA</td>\n",
       "      <td>6</td>\n",
       "      <td>California</td>\n",
       "      <td>91</td>\n",
       "      <td>SFO</td>\n",
       "      <td>14771</td>\n",
       "      <td>1477101</td>\n",
       "      <td>32457</td>\n",
       "      <td>San Francisco, CA</td>\n",
       "      <td>CA</td>\n",
       "      <td>6</td>\n",
       "      <td>California</td>\n",
       "      <td>91</td>\n",
       "    </tr>\n",
       "    <tr>\n",
       "      <th>435506</th>\n",
       "      <td>LIH</td>\n",
       "      <td>12982</td>\n",
       "      <td>1298202</td>\n",
       "      <td>32982</td>\n",
       "      <td>Lihue, HI</td>\n",
       "      <td>HI</td>\n",
       "      <td>15</td>\n",
       "      <td>Hawaii</td>\n",
       "      <td>2</td>\n",
       "      <td>HNL</td>\n",
       "      <td>12173</td>\n",
       "      <td>1217302</td>\n",
       "      <td>32134</td>\n",
       "      <td>Honolulu, HI</td>\n",
       "      <td>HI</td>\n",
       "      <td>15</td>\n",
       "      <td>Hawaii</td>\n",
       "      <td>2</td>\n",
       "    </tr>\n",
       "    <tr>\n",
       "      <th>358242</th>\n",
       "      <td>HPN</td>\n",
       "      <td>12197</td>\n",
       "      <td>1219702</td>\n",
       "      <td>31703</td>\n",
       "      <td>White Plains, NY</td>\n",
       "      <td>NY</td>\n",
       "      <td>36</td>\n",
       "      <td>New York</td>\n",
       "      <td>22</td>\n",
       "      <td>MCO</td>\n",
       "      <td>13204</td>\n",
       "      <td>1320402</td>\n",
       "      <td>31454</td>\n",
       "      <td>Orlando, FL</td>\n",
       "      <td>FL</td>\n",
       "      <td>12</td>\n",
       "      <td>Florida</td>\n",
       "      <td>33</td>\n",
       "    </tr>\n",
       "    <tr>\n",
       "      <th>443244</th>\n",
       "      <td>DFW</td>\n",
       "      <td>11298</td>\n",
       "      <td>1129803</td>\n",
       "      <td>30194</td>\n",
       "      <td>Dallas/Fort Worth, TX</td>\n",
       "      <td>TX</td>\n",
       "      <td>48</td>\n",
       "      <td>Texas</td>\n",
       "      <td>74</td>\n",
       "      <td>MGM</td>\n",
       "      <td>13277</td>\n",
       "      <td>1327702</td>\n",
       "      <td>33277</td>\n",
       "      <td>Montgomery, AL</td>\n",
       "      <td>AL</td>\n",
       "      <td>1</td>\n",
       "      <td>Alabama</td>\n",
       "      <td>51</td>\n",
       "    </tr>\n",
       "    <tr>\n",
       "      <th>74405</th>\n",
       "      <td>ORD</td>\n",
       "      <td>13930</td>\n",
       "      <td>1393003</td>\n",
       "      <td>30977</td>\n",
       "      <td>Chicago, IL</td>\n",
       "      <td>IL</td>\n",
       "      <td>17</td>\n",
       "      <td>Illinois</td>\n",
       "      <td>41</td>\n",
       "      <td>PHX</td>\n",
       "      <td>14107</td>\n",
       "      <td>1410702</td>\n",
       "      <td>30466</td>\n",
       "      <td>Phoenix, AZ</td>\n",
       "      <td>AZ</td>\n",
       "      <td>4</td>\n",
       "      <td>Arizona</td>\n",
       "      <td>81</td>\n",
       "    </tr>\n",
       "    <tr>\n",
       "      <th>37518</th>\n",
       "      <td>LAX</td>\n",
       "      <td>12892</td>\n",
       "      <td>1289203</td>\n",
       "      <td>32575</td>\n",
       "      <td>Los Angeles, CA</td>\n",
       "      <td>CA</td>\n",
       "      <td>6</td>\n",
       "      <td>California</td>\n",
       "      <td>91</td>\n",
       "      <td>DFW</td>\n",
       "      <td>11298</td>\n",
       "      <td>1129803</td>\n",
       "      <td>30194</td>\n",
       "      <td>Dallas/Fort Worth, TX</td>\n",
       "      <td>TX</td>\n",
       "      <td>48</td>\n",
       "      <td>Texas</td>\n",
       "      <td>74</td>\n",
       "    </tr>\n",
       "  </tbody>\n",
       "</table>\n",
       "</div>"
      ],
      "text/plain": [
       "       Dest  DestAirportID  DestAirportSeqID  DestCityMarketID  \\\n",
       "194935  OAK          13796           1379603             32457   \n",
       "183265  BWI          10821           1082103             30852   \n",
       "218157  ATL          10397           1039705             30397   \n",
       "263802  LAX          12892           1289203             32575   \n",
       "180922  SNA          14908           1490803             32575   \n",
       "435506  LIH          12982           1298202             32982   \n",
       "358242  HPN          12197           1219702             31703   \n",
       "443244  DFW          11298           1129803             30194   \n",
       "74405   ORD          13930           1393003             30977   \n",
       "37518   LAX          12892           1289203             32575   \n",
       "\n",
       "                 DestCityName DestState  DestStateFips DestStateName  DestWac  \\\n",
       "194935            Oakland, CA        CA              6    California       91   \n",
       "183265          Baltimore, MD        MD             24      Maryland       35   \n",
       "218157            Atlanta, GA        GA             13       Georgia       34   \n",
       "263802        Los Angeles, CA        CA              6    California       91   \n",
       "180922          Santa Ana, CA        CA              6    California       91   \n",
       "435506              Lihue, HI        HI             15        Hawaii        2   \n",
       "358242       White Plains, NY        NY             36      New York       22   \n",
       "443244  Dallas/Fort Worth, TX        TX             48         Texas       74   \n",
       "74405             Chicago, IL        IL             17      Illinois       41   \n",
       "37518         Los Angeles, CA        CA              6    California       91   \n",
       "\n",
       "       Origin  OriginAirportID  OriginAirportSeqID  OriginCityMarketID  \\\n",
       "194935    PDX            14057             1405702               34057   \n",
       "183265    RSW            14635             1463502               31714   \n",
       "218157    RSW            14635             1463502               31714   \n",
       "263802    SBP            14698             1469802               34236   \n",
       "180922    SFO            14771             1477101               32457   \n",
       "435506    HNL            12173             1217302               32134   \n",
       "358242    MCO            13204             1320402               31454   \n",
       "443244    MGM            13277             1327702               33277   \n",
       "74405     PHX            14107             1410702               30466   \n",
       "37518     DFW            11298             1129803               30194   \n",
       "\n",
       "               OriginCityName OriginState  OriginStateFips OriginStateName  \\\n",
       "194935           Portland, OR          OR               41          Oregon   \n",
       "183265         Fort Myers, FL          FL               12         Florida   \n",
       "218157         Fort Myers, FL          FL               12         Florida   \n",
       "263802    San Luis Obispo, CA          CA                6      California   \n",
       "180922      San Francisco, CA          CA                6      California   \n",
       "435506           Honolulu, HI          HI               15          Hawaii   \n",
       "358242            Orlando, FL          FL               12         Florida   \n",
       "443244         Montgomery, AL          AL                1         Alabama   \n",
       "74405             Phoenix, AZ          AZ                4         Arizona   \n",
       "37518   Dallas/Fort Worth, TX          TX               48           Texas   \n",
       "\n",
       "        OriginWac  \n",
       "194935         92  \n",
       "183265         33  \n",
       "218157         33  \n",
       "263802         91  \n",
       "180922         91  \n",
       "435506          2  \n",
       "358242         33  \n",
       "443244         51  \n",
       "74405          81  \n",
       "37518          74  "
      ]
     },
     "execution_count": 59,
     "metadata": {},
     "output_type": "execute_result"
    }
   ],
   "source": [
    "df[colOrigin|colDest].sample(10)"
   ]
  },
  {
   "cell_type": "code",
   "execution_count": 61,
   "metadata": {
    "collapsed": false
   },
   "outputs": [
    {
     "data": {
      "text/plain": [
       "Year                  469968\n",
       "Quarter               469968\n",
       "Month                 469968\n",
       "DayofMonth            469968\n",
       "DayOfWeek             469968\n",
       "FlightDate            469968\n",
       "UniqueCarrier         469968\n",
       "AirlineID             469968\n",
       "Carrier               469968\n",
       "TailNum               467186\n",
       "FlightNum             469968\n",
       "OriginAirportID       469968\n",
       "OriginAirportSeqID    469968\n",
       "OriginCityMarketID    469968\n",
       "Origin                469968\n",
       "OriginCityName        469968\n",
       "OriginState           469968\n",
       "OriginStateFips       469968\n",
       "OriginStateName       469968\n",
       "OriginWac             469968\n",
       "DestAirportID         469968\n",
       "DestAirportSeqID      469968\n",
       "DestCityMarketID      469968\n",
       "Dest                  469968\n",
       "DestCityName          469968\n",
       "DestState             469968\n",
       "DestStateFips         469968\n",
       "DestStateName         469968\n",
       "DestWac               469968\n",
       "CRSDepTime            469968\n",
       "                       ...  \n",
       "ArrTime               457697\n",
       "ArrDelay              457013\n",
       "ArrDelayMinutes       457013\n",
       "ArrDel15              457013\n",
       "ArrivalDelayGroups    457013\n",
       "ArrTimeBlk            469968\n",
       "Cancelled             469968\n",
       "CancellationCode       11982\n",
       "Diverted              469968\n",
       "CRSElapsedTime        469968\n",
       "ActualElapsedTime     457013\n",
       "AirTime               457013\n",
       "Flights               469968\n",
       "Distance              469968\n",
       "DistanceGroup         469968\n",
       "CarrierDelay           95951\n",
       "WeatherDelay           95951\n",
       "NASDelay               95951\n",
       "SecurityDelay          95951\n",
       "LateAircraftDelay      95951\n",
       "FirstDepTime            2895\n",
       "TotalAddGTime           2895\n",
       "LongestAddGTime         2895\n",
       "DivAirportLandings    469968\n",
       "Div1Airport             1079\n",
       "Div1AirportID           1079\n",
       "Div1AirportSeqID        1079\n",
       "Div1WheelsOn            1079\n",
       "Div1TotalGTime          1079\n",
       "Div1LongestGTime        1079\n",
       "dtype: int64"
      ]
     },
     "execution_count": 61,
     "metadata": {},
     "output_type": "execute_result"
    }
   ],
   "source": [
    "# eliminar columnas\n",
    "\n",
    "df.count()  # vemos que las q contienen \"div\" tienen pocos valores"
   ]
  },
  {
   "cell_type": "code",
   "execution_count": 65,
   "metadata": {
    "collapsed": false
   },
   "outputs": [],
   "source": [
    "# las que comienzan x ...\n",
    "df.columns[df.columns.str.startswith(\"Div\")]\n",
    "\n",
    "\n",
    "# las referencio \n",
    "divColumns=df.columns[df.columns.str.startswith(\"Div\")]"
   ]
  },
  {
   "cell_type": "code",
   "execution_count": 68,
   "metadata": {
    "collapsed": false
   },
   "outputs": [],
   "source": [
    "# df.drop  >>> ELIMINA FILAS x defecto   >>>> con axis=1 cambio el Eje y ataco columnas\n",
    "df.drop(divColumns,axis=1).sample(10)\n",
    "\n",
    "# consolido en df\n",
    "df=df.drop(divColumns,axis=1)"
   ]
  },
  {
   "cell_type": "code",
   "execution_count": 69,
   "metadata": {
    "collapsed": false
   },
   "outputs": [
    {
     "data": {
      "text/plain": [
       "Index([u'Year', u'Quarter', u'Month', u'DayofMonth', u'DayOfWeek',\n",
       "       u'FlightDate', u'UniqueCarrier', u'AirlineID', u'Carrier', u'TailNum',\n",
       "       u'FlightNum', u'OriginAirportID', u'OriginAirportSeqID',\n",
       "       u'OriginCityMarketID', u'Origin', u'OriginCityName', u'OriginState',\n",
       "       u'OriginStateFips', u'OriginStateName', u'OriginWac', u'DestAirportID',\n",
       "       u'DestAirportSeqID', u'DestCityMarketID', u'Dest', u'DestCityName',\n",
       "       u'DestState', u'DestStateFips', u'DestStateName', u'DestWac',\n",
       "       u'CRSDepTime', u'DepTime', u'DepDelay', u'DepDelayMinutes', u'DepDel15',\n",
       "       u'DepartureDelayGroups', u'DepTimeBlk', u'TaxiOut', u'WheelsOff',\n",
       "       u'WheelsOn', u'TaxiIn', u'CRSArrTime', u'ArrTime', u'ArrDelay',\n",
       "       u'ArrDelayMinutes', u'ArrDel15', u'ArrivalDelayGroups', u'ArrTimeBlk',\n",
       "       u'Cancelled', u'CancellationCode', u'CRSElapsedTime',\n",
       "       u'ActualElapsedTime', u'AirTime', u'Flights', u'Distance',\n",
       "       u'DistanceGroup', u'CarrierDelay', u'WeatherDelay', u'NASDelay',\n",
       "       u'SecurityDelay', u'LateAircraftDelay', u'FirstDepTime',\n",
       "       u'TotalAddGTime', u'LongestAddGTime'],\n",
       "      dtype='object')"
      ]
     },
     "execution_count": 69,
     "metadata": {},
     "output_type": "execute_result"
    }
   ],
   "source": [
    "df.columns"
   ]
  },
  {
   "cell_type": "code",
   "execution_count": 70,
   "metadata": {
    "collapsed": false
   },
   "outputs": [
    {
     "data": {
      "image/png": "[encoded data removed]",
      "text/plain": [
       "<matplotlib.figure.Figure at 0x7f41e5dbab90>"
      ]
     },
     "metadata": {},
     "output_type": "display_data"
    }
   ],
   "source": [
    "# vamos a hacer de nuevo el gráfico \n",
    "locx=range(len(df.columns))\n",
    "plt.bar(locx,df.count())\n",
    "plt.show()"
   ]
  },
  {
   "cell_type": "code",
   "execution_count": 73,
   "metadata": {
    "collapsed": false
   },
   "outputs": [],
   "source": [
    "# reemplazar Nan x ceros (x algo)\n",
    "\n",
    "df.fillna(0)   # sólo lo muestra\n",
    "\n",
    "df=df.fillna(0)  # lo consolido"
   ]
  },
  {
   "cell_type": "code",
   "execution_count": 77,
   "metadata": {
    "collapsed": true
   },
   "outputs": [],
   "source": [
    "# cambiar un valor por Null   (p.e  si 7 devuelve Nan)\n",
    "\n",
    "def replace(integer):\n",
    "    if integer == 7:\n",
    "        return np.nan\n",
    "    else:\n",
    "        return integer\n",
    "\n",
    "    \n",
    "        "
   ]
  },
  {
   "cell_type": "code",
   "execution_count": 79,
   "metadata": {
    "collapsed": false
   },
   "outputs": [],
   "source": [
    "# creamos una columna que tiene valor Nan si DayOfWeek == 7 y si no el DayOfWeek\n",
    "\n",
    "df[\"newDay\"]=df[\"DayOfWeek\"].apply(replace)"
   ]
  },
  {
   "cell_type": "code",
   "execution_count": 83,
   "metadata": {
    "collapsed": true
   },
   "outputs": [
    {
     "data": {
      "text/plain": [
       "Year                      int64\n",
       "Quarter                   int64\n",
       "Month                     int64\n",
       "DayofMonth                int64\n",
       "DayOfWeek                 int64\n",
       "FlightDate               object\n",
       "UniqueCarrier            object\n",
       "AirlineID                 int64\n",
       "Carrier                  object\n",
       "TailNum                  object\n",
       "FlightNum                 int64\n",
       "OriginAirportID           int64\n",
       "OriginAirportSeqID        int64\n",
       "OriginCityMarketID        int64\n",
       "Origin                   object\n",
       "OriginCityName           object\n",
       "OriginState              object\n",
       "OriginStateFips           int64\n",
       "OriginStateName          object\n",
       "OriginWac                 int64\n",
       "DestAirportID             int64\n",
       "DestAirportSeqID          int64\n",
       "DestCityMarketID          int64\n",
       "Dest                     object\n",
       "DestCityName             object\n",
       "DestState                object\n",
       "DestStateFips             int64\n",
       "DestStateName            object\n",
       "DestWac                   int64\n",
       "CRSDepTime                int64\n",
       "                         ...   \n",
       "DepartureDelayGroups    float64\n",
       "DepTimeBlk               object\n",
       "TaxiOut                 float64\n",
       "WheelsOff               float64\n",
       "WheelsOn                float64\n",
       "TaxiIn                  float64\n",
       "CRSArrTime                int64\n",
       "ArrTime                 float64\n",
       "ArrDelay                float64\n",
       "ArrDelayMinutes         float64\n",
       "ArrDel15                float64\n",
       "ArrivalDelayGroups      float64\n",
       "ArrTimeBlk               object\n",
       "Cancelled               float64\n",
       "CancellationCode         object\n",
       "CRSElapsedTime          float64\n",
       "ActualElapsedTime       float64\n",
       "AirTime                 float64\n",
       "Flights                 float64\n",
       "Distance                float64\n",
       "DistanceGroup             int64\n",
       "CarrierDelay            float64\n",
       "WeatherDelay            float64\n",
       "NASDelay                float64\n",
       "SecurityDelay           float64\n",
       "LateAircraftDelay       float64\n",
       "FirstDepTime            float64\n",
       "TotalAddGTime           float64\n",
       "LongestAddGTime         float64\n",
       "newDay                  float64\n",
       "dtype: object"
      ]
     },
     "execution_count": 83,
     "metadata": {},
     "output_type": "execute_result"
    }
   ],
   "source": [
    "# muestra el tipo de cada columna del DataFrame\n",
    "df.dtypes"
   ]
  },
  {
   "cell_type": "markdown",
   "metadata": {},
   "source": [
    "función datetime para gestionar FECHAS"
   ]
  },
  {
   "cell_type": "code",
   "execution_count": 84,
   "metadata": {
    "collapsed": true
   },
   "outputs": [],
   "source": [
    "import datetime"
   ]
  },
  {
   "cell_type": "code",
   "execution_count": 85,
   "metadata": {
    "collapsed": true
   },
   "outputs": [],
   "source": [
    "# now = timestamp\n",
    "\n",
    "t=datetime.datetime.now()"
   ]
  },
  {
   "cell_type": "code",
   "execution_count": 89,
   "metadata": {
    "collapsed": false
   },
   "outputs": [
    {
     "data": {
      "text/plain": [
       "10"
      ]
     },
     "execution_count": 89,
     "metadata": {},
     "output_type": "execute_result"
    }
   ],
   "source": [
    "# ahora puedo utilizar   t.year, t.month, ....\n",
    "\n",
    "t.hour"
   ]
  },
  {
   "cell_type": "code",
   "execution_count": 91,
   "metadata": {
    "collapsed": false
   },
   "outputs": [
    {
     "data": {
      "text/plain": [
       "datetime.datetime(2015, 12, 20, 0, 0)"
      ]
     },
     "execution_count": 91,
     "metadata": {},
     "output_type": "execute_result"
    }
   ],
   "source": [
    "# convertir una cadena de caracteres (pe FlightDate) a un objeto datetime\n",
    "\n",
    "# strptime ( cadena, formato)\n",
    "\n",
    "# %Y  = year\n",
    "# %m  = month\n",
    "# %d  = day\n",
    "\n",
    "t2=datetime.datetime.strptime('2015-12-20',\"%Y-%m-%d\")\n",
    "\n",
    "t2"
   ]
  },
  {
   "cell_type": "code",
   "execution_count": 93,
   "metadata": {
    "collapsed": false
   },
   "outputs": [
    {
     "data": {
      "text/plain": [
       "'20/12/2015'"
      ]
     },
     "execution_count": 93,
     "metadata": {},
     "output_type": "execute_result"
    }
   ],
   "source": [
    "# convertir datetime en cadena de caracteres\n",
    "\n",
    "# strftime (formato)\n",
    "\n",
    "t3 = t2.strftime(\"%d/%m/%Y\")\n",
    "\n",
    "t3"
   ]
  },
  {
   "cell_type": "code",
   "execution_count": 99,
   "metadata": {
    "collapsed": false
   },
   "outputs": [],
   "source": [
    "# vamos a pasar FligtDate (Caracter) a datetime\n",
    "\n",
    "# funcion de pandas to_datetime\n",
    "\n",
    "pd.to_datetime(df[\"FlightDate\"],format=\"%Y-%m-%d\")\n",
    "\n",
    "# la llevamos a nueva columna o directamente reemplazamos\n",
    "\n",
    "df[\"FlightDateDt\"]=pd.to_datetime(df[\"FlightDate\"],format=\"%Y-%m-%d\")     # en este caso nueva columna"
   ]
  },
  {
   "cell_type": "code",
   "execution_count": 100,
   "metadata": {
    "collapsed": false
   },
   "outputs": [
    {
     "data": {
      "text/html": [
       "<div>\n",
       "<table border=\"1\" class=\"dataframe\">\n",
       "  <thead>\n",
       "    <tr style=\"text-align: right;\">\n",
       "      <th></th>\n",
       "      <th>Year</th>\n",
       "      <th>Quarter</th>\n",
       "      <th>Month</th>\n",
       "      <th>DayofMonth</th>\n",
       "      <th>DayOfWeek</th>\n",
       "      <th>FlightDate</th>\n",
       "      <th>UniqueCarrier</th>\n",
       "      <th>AirlineID</th>\n",
       "      <th>Carrier</th>\n",
       "      <th>TailNum</th>\n",
       "      <th>...</th>\n",
       "      <th>CarrierDelay</th>\n",
       "      <th>WeatherDelay</th>\n",
       "      <th>NASDelay</th>\n",
       "      <th>SecurityDelay</th>\n",
       "      <th>LateAircraftDelay</th>\n",
       "      <th>FirstDepTime</th>\n",
       "      <th>TotalAddGTime</th>\n",
       "      <th>LongestAddGTime</th>\n",
       "      <th>newDay</th>\n",
       "      <th>FlightDateDt</th>\n",
       "    </tr>\n",
       "  </thead>\n",
       "  <tbody>\n",
       "    <tr>\n",
       "      <th>297318</th>\n",
       "      <td>2015</td>\n",
       "      <td>1</td>\n",
       "      <td>1</td>\n",
       "      <td>25</td>\n",
       "      <td>7</td>\n",
       "      <td>2015-01-25</td>\n",
       "      <td>UA</td>\n",
       "      <td>19977</td>\n",
       "      <td>UA</td>\n",
       "      <td>N12218</td>\n",
       "      <td>...</td>\n",
       "      <td>0</td>\n",
       "      <td>0</td>\n",
       "      <td>0</td>\n",
       "      <td>0</td>\n",
       "      <td>0</td>\n",
       "      <td>0</td>\n",
       "      <td>0</td>\n",
       "      <td>0</td>\n",
       "      <td>NaN</td>\n",
       "      <td>2015-01-25</td>\n",
       "    </tr>\n",
       "    <tr>\n",
       "      <th>263337</th>\n",
       "      <td>2015</td>\n",
       "      <td>1</td>\n",
       "      <td>1</td>\n",
       "      <td>8</td>\n",
       "      <td>4</td>\n",
       "      <td>2015-01-08</td>\n",
       "      <td>OO</td>\n",
       "      <td>20304</td>\n",
       "      <td>OO</td>\n",
       "      <td>N803SK</td>\n",
       "      <td>...</td>\n",
       "      <td>0</td>\n",
       "      <td>0</td>\n",
       "      <td>35</td>\n",
       "      <td>0</td>\n",
       "      <td>46</td>\n",
       "      <td>0</td>\n",
       "      <td>0</td>\n",
       "      <td>0</td>\n",
       "      <td>4</td>\n",
       "      <td>2015-01-08</td>\n",
       "    </tr>\n",
       "    <tr>\n",
       "      <th>277586</th>\n",
       "      <td>2015</td>\n",
       "      <td>1</td>\n",
       "      <td>1</td>\n",
       "      <td>15</td>\n",
       "      <td>4</td>\n",
       "      <td>2015-01-15</td>\n",
       "      <td>OO</td>\n",
       "      <td>20304</td>\n",
       "      <td>OO</td>\n",
       "      <td>N750SK</td>\n",
       "      <td>...</td>\n",
       "      <td>0</td>\n",
       "      <td>0</td>\n",
       "      <td>0</td>\n",
       "      <td>0</td>\n",
       "      <td>0</td>\n",
       "      <td>0</td>\n",
       "      <td>0</td>\n",
       "      <td>0</td>\n",
       "      <td>4</td>\n",
       "      <td>2015-01-15</td>\n",
       "    </tr>\n",
       "    <tr>\n",
       "      <th>135014</th>\n",
       "      <td>2015</td>\n",
       "      <td>1</td>\n",
       "      <td>1</td>\n",
       "      <td>1</td>\n",
       "      <td>4</td>\n",
       "      <td>2015-01-01</td>\n",
       "      <td>WN</td>\n",
       "      <td>19393</td>\n",
       "      <td>WN</td>\n",
       "      <td>N256WN</td>\n",
       "      <td>...</td>\n",
       "      <td>0</td>\n",
       "      <td>0</td>\n",
       "      <td>0</td>\n",
       "      <td>0</td>\n",
       "      <td>0</td>\n",
       "      <td>0</td>\n",
       "      <td>0</td>\n",
       "      <td>0</td>\n",
       "      <td>4</td>\n",
       "      <td>2015-01-01</td>\n",
       "    </tr>\n",
       "    <tr>\n",
       "      <th>7887</th>\n",
       "      <td>2015</td>\n",
       "      <td>1</td>\n",
       "      <td>1</td>\n",
       "      <td>4</td>\n",
       "      <td>7</td>\n",
       "      <td>2015-01-04</td>\n",
       "      <td>AA</td>\n",
       "      <td>19805</td>\n",
       "      <td>AA</td>\n",
       "      <td>N5DHAA</td>\n",
       "      <td>...</td>\n",
       "      <td>0</td>\n",
       "      <td>0</td>\n",
       "      <td>0</td>\n",
       "      <td>0</td>\n",
       "      <td>0</td>\n",
       "      <td>0</td>\n",
       "      <td>0</td>\n",
       "      <td>0</td>\n",
       "      <td>NaN</td>\n",
       "      <td>2015-01-04</td>\n",
       "    </tr>\n",
       "    <tr>\n",
       "      <th>401083</th>\n",
       "      <td>2015</td>\n",
       "      <td>1</td>\n",
       "      <td>1</td>\n",
       "      <td>19</td>\n",
       "      <td>1</td>\n",
       "      <td>2015-01-19</td>\n",
       "      <td>EV</td>\n",
       "      <td>20366</td>\n",
       "      <td>EV</td>\n",
       "      <td>N860AS</td>\n",
       "      <td>...</td>\n",
       "      <td>0</td>\n",
       "      <td>0</td>\n",
       "      <td>0</td>\n",
       "      <td>0</td>\n",
       "      <td>0</td>\n",
       "      <td>0</td>\n",
       "      <td>0</td>\n",
       "      <td>0</td>\n",
       "      <td>1</td>\n",
       "      <td>2015-01-19</td>\n",
       "    </tr>\n",
       "    <tr>\n",
       "      <th>74388</th>\n",
       "      <td>2015</td>\n",
       "      <td>1</td>\n",
       "      <td>1</td>\n",
       "      <td>21</td>\n",
       "      <td>3</td>\n",
       "      <td>2015-01-21</td>\n",
       "      <td>AA</td>\n",
       "      <td>19805</td>\n",
       "      <td>AA</td>\n",
       "      <td>N3ETAA</td>\n",
       "      <td>...</td>\n",
       "      <td>0</td>\n",
       "      <td>0</td>\n",
       "      <td>0</td>\n",
       "      <td>0</td>\n",
       "      <td>0</td>\n",
       "      <td>0</td>\n",
       "      <td>0</td>\n",
       "      <td>0</td>\n",
       "      <td>3</td>\n",
       "      <td>2015-01-21</td>\n",
       "    </tr>\n",
       "    <tr>\n",
       "      <th>183918</th>\n",
       "      <td>2015</td>\n",
       "      <td>1</td>\n",
       "      <td>1</td>\n",
       "      <td>18</td>\n",
       "      <td>7</td>\n",
       "      <td>2015-01-18</td>\n",
       "      <td>WN</td>\n",
       "      <td>19393</td>\n",
       "      <td>WN</td>\n",
       "      <td>N467WN</td>\n",
       "      <td>...</td>\n",
       "      <td>0</td>\n",
       "      <td>0</td>\n",
       "      <td>0</td>\n",
       "      <td>0</td>\n",
       "      <td>0</td>\n",
       "      <td>0</td>\n",
       "      <td>0</td>\n",
       "      <td>0</td>\n",
       "      <td>NaN</td>\n",
       "      <td>2015-01-18</td>\n",
       "    </tr>\n",
       "    <tr>\n",
       "      <th>111091</th>\n",
       "      <td>2015</td>\n",
       "      <td>1</td>\n",
       "      <td>1</td>\n",
       "      <td>19</td>\n",
       "      <td>1</td>\n",
       "      <td>2015-01-19</td>\n",
       "      <td>DL</td>\n",
       "      <td>19790</td>\n",
       "      <td>DL</td>\n",
       "      <td>N937AT</td>\n",
       "      <td>...</td>\n",
       "      <td>0</td>\n",
       "      <td>0</td>\n",
       "      <td>0</td>\n",
       "      <td>0</td>\n",
       "      <td>0</td>\n",
       "      <td>0</td>\n",
       "      <td>0</td>\n",
       "      <td>0</td>\n",
       "      <td>1</td>\n",
       "      <td>2015-01-19</td>\n",
       "    </tr>\n",
       "    <tr>\n",
       "      <th>101116</th>\n",
       "      <td>2015</td>\n",
       "      <td>1</td>\n",
       "      <td>1</td>\n",
       "      <td>13</td>\n",
       "      <td>2</td>\n",
       "      <td>2015-01-13</td>\n",
       "      <td>DL</td>\n",
       "      <td>19790</td>\n",
       "      <td>DL</td>\n",
       "      <td>N967AT</td>\n",
       "      <td>...</td>\n",
       "      <td>0</td>\n",
       "      <td>0</td>\n",
       "      <td>0</td>\n",
       "      <td>0</td>\n",
       "      <td>0</td>\n",
       "      <td>0</td>\n",
       "      <td>0</td>\n",
       "      <td>0</td>\n",
       "      <td>2</td>\n",
       "      <td>2015-01-13</td>\n",
       "    </tr>\n",
       "  </tbody>\n",
       "</table>\n",
       "<p>10 rows × 65 columns</p>\n",
       "</div>"
      ],
      "text/plain": [
       "        Year  Quarter  Month  DayofMonth  DayOfWeek  FlightDate UniqueCarrier  \\\n",
       "297318  2015        1      1          25          7  2015-01-25            UA   \n",
       "263337  2015        1      1           8          4  2015-01-08            OO   \n",
       "277586  2015        1      1          15          4  2015-01-15            OO   \n",
       "135014  2015        1      1           1          4  2015-01-01            WN   \n",
       "7887    2015        1      1           4          7  2015-01-04            AA   \n",
       "401083  2015        1      1          19          1  2015-01-19            EV   \n",
       "74388   2015        1      1          21          3  2015-01-21            AA   \n",
       "183918  2015        1      1          18          7  2015-01-18            WN   \n",
       "111091  2015        1      1          19          1  2015-01-19            DL   \n",
       "101116  2015        1      1          13          2  2015-01-13            DL   \n",
       "\n",
       "        AirlineID Carrier TailNum      ...       CarrierDelay  WeatherDelay  \\\n",
       "297318      19977      UA  N12218      ...                  0             0   \n",
       "263337      20304      OO  N803SK      ...                  0             0   \n",
       "277586      20304      OO  N750SK      ...                  0             0   \n",
       "135014      19393      WN  N256WN      ...                  0             0   \n",
       "7887        19805      AA  N5DHAA      ...                  0             0   \n",
       "401083      20366      EV  N860AS      ...                  0             0   \n",
       "74388       19805      AA  N3ETAA      ...                  0             0   \n",
       "183918      19393      WN  N467WN      ...                  0             0   \n",
       "111091      19790      DL  N937AT      ...                  0             0   \n",
       "101116      19790      DL  N967AT      ...                  0             0   \n",
       "\n",
       "        NASDelay  SecurityDelay LateAircraftDelay FirstDepTime TotalAddGTime  \\\n",
       "297318         0              0                 0            0             0   \n",
       "263337        35              0                46            0             0   \n",
       "277586         0              0                 0            0             0   \n",
       "135014         0              0                 0            0             0   \n",
       "7887           0              0                 0            0             0   \n",
       "401083         0              0                 0            0             0   \n",
       "74388          0              0                 0            0             0   \n",
       "183918         0              0                 0            0             0   \n",
       "111091         0              0                 0            0             0   \n",
       "101116         0              0                 0            0             0   \n",
       "\n",
       "        LongestAddGTime newDay  FlightDateDt  \n",
       "297318                0    NaN    2015-01-25  \n",
       "263337                0      4    2015-01-08  \n",
       "277586                0      4    2015-01-15  \n",
       "135014                0      4    2015-01-01  \n",
       "7887                  0    NaN    2015-01-04  \n",
       "401083                0      1    2015-01-19  \n",
       "74388                 0      3    2015-01-21  \n",
       "183918                0    NaN    2015-01-18  \n",
       "111091                0      1    2015-01-19  \n",
       "101116                0      2    2015-01-13  \n",
       "\n",
       "[10 rows x 65 columns]"
      ]
     },
     "execution_count": 100,
     "metadata": {},
     "output_type": "execute_result"
    }
   ],
   "source": [
    "df.sample(10)"
   ]
  },
  {
   "cell_type": "code",
   "execution_count": 102,
   "metadata": {
    "collapsed": true
   },
   "outputs": [],
   "source": [
    "# astype >>>> Cambia el tipo de objeto (char, int, ...)\n",
    "\n",
    "# p.e pasar entero (FligthNum) a char  \n",
    "\n",
    "df[\"FlightNumStr\"]=df[\"FlightNum\"].astype(str)"
   ]
  },
  {
   "cell_type": "markdown",
   "metadata": {},
   "source": [
    "# más pruebas con operaciones de group by"
   ]
  },
  {
   "cell_type": "code",
   "execution_count": 106,
   "metadata": {
    "collapsed": false
   },
   "outputs": [
    {
     "data": {
      "text/plain": [
       "Index([u'DepDelay', u'DepDelayMinutes', u'DepartureDelayGroups', u'ArrDelay',\n",
       "       u'ArrDelayMinutes', u'ArrivalDelayGroups', u'CarrierDelay',\n",
       "       u'WeatherDelay', u'NASDelay', u'SecurityDelay', u'LateAircraftDelay'],\n",
       "      dtype='object')"
      ]
     },
     "execution_count": 106,
     "metadata": {},
     "output_type": "execute_result"
    }
   ],
   "source": [
    "# las columnas q contienen Delay\n",
    "\n",
    "df.columns[df.columns.str.contains(\"Delay\")]"
   ]
  },
  {
   "cell_type": "code",
   "execution_count": 115,
   "metadata": {
    "collapsed": false
   },
   "outputs": [],
   "source": [
    "# vamos a sumar algunas de ellas, las que indicas algunos tipos de retraso en el vuelo\n",
    "delayReasonSum=df[[u'CarrierDelay',u'WeatherDelay', u'NASDelay', u'SecurityDelay', u'LateAircraftDelay']].sum()\n",
    "\n"
   ]
  },
  {
   "cell_type": "code",
   "execution_count": 129,
   "metadata": {
    "collapsed": true
   },
   "outputs": [],
   "source": [
    "delayCol=[u'CarrierDelay',u'WeatherDelay', u'NASDelay', u'SecurityDelay', u'LateAircraftDelay']"
   ]
  },
  {
   "cell_type": "code",
   "execution_count": 118,
   "metadata": {
    "collapsed": false
   },
   "outputs": [
    {
     "data": {
      "image/png": "[encoded data removed]",
      "text/plain": [
       "<matplotlib.figure.Figure at 0x7f41e1187d90>"
      ]
     },
     "metadata": {},
     "output_type": "display_data"
    }
   ],
   "source": [
    "# lo ploteamos\n",
    "\n",
    "locx = range(len(delayReasonSum))\n",
    "plt.bar(locx,delayReasonSum)\n",
    "plt.xticks(locx,delayReasonSum.index,rotation=45)\n",
    "plt.show()"
   ]
  },
  {
   "cell_type": "code",
   "execution_count": 125,
   "metadata": {
    "collapsed": false
   },
   "outputs": [
    {
     "data": {
      "image/png": "[encoded data removed]",
      "text/plain": [
       "<matplotlib.figure.Figure at 0x7f41ee7673d0>"
      ]
     },
     "metadata": {},
     "output_type": "display_data"
    }
   ],
   "source": [
    "# vamos a hacer el mismo gráfico en Tarta   >>> plt.pie\n",
    "plt.pie(delayReasonSum,labels=delayReasonSum.index)\n",
    "plt.show()"
   ]
  },
  {
   "cell_type": "code",
   "execution_count": 121,
   "metadata": {
    "collapsed": false
   },
   "outputs": [],
   "source": [
    "# mismo gráfico tarta pero sólo para American Airlines\n",
    "dfAA=df[df[\"Carrier\"]==\"AA\"]"
   ]
  },
  {
   "cell_type": "code",
   "execution_count": 126,
   "metadata": {
    "collapsed": true
   },
   "outputs": [],
   "source": [
    "# rehago delayReasonSum pero del dataFrame AA\n",
    "delayReasonSum=dfAA[[u'CarrierDelay',u'WeatherDelay', u'NASDelay', u'SecurityDelay', u'LateAircraftDelay']].sum()"
   ]
  },
  {
   "cell_type": "code",
   "execution_count": 127,
   "metadata": {
    "collapsed": false
   },
   "outputs": [
    {
     "data": {
      "image/png": "[encoded data removed]",
      "text/plain": [
       "<matplotlib.figure.Figure at 0x7f41ee59cbd0>"
      ]
     },
     "metadata": {},
     "output_type": "display_data"
    }
   ],
   "source": [
    "# y ploteamos de nuevo\n",
    "plt.pie(delayReasonSum,labels=delayReasonSum.index)\n",
    "plt.show()"
   ]
  },
  {
   "cell_type": "code",
   "execution_count": 128,
   "metadata": {
    "collapsed": true
   },
   "outputs": [],
   "source": [
    "# mismo ejercicio para todas las Aerolíneas\n",
    "\n",
    "# creamos la agrupación x Carrier\n",
    "\n",
    "by_carrier=df.groupby(\"Carrier\")\n",
    "\n",
    "\n",
    "# by_carrier no es un DataFrame, sino un DataFrameGroupBy, es decir, un conjunto de DataFrames"
   ]
  },
  {
   "cell_type": "code",
   "execution_count": 131,
   "metadata": {
    "collapsed": false
   },
   "outputs": [
    {
     "data": {
      "text/html": [
       "<div>\n",
       "<table border=\"1\" class=\"dataframe\">\n",
       "  <thead>\n",
       "    <tr style=\"text-align: right;\">\n",
       "      <th></th>\n",
       "      <th>CarrierDelay</th>\n",
       "      <th>WeatherDelay</th>\n",
       "      <th>NASDelay</th>\n",
       "      <th>SecurityDelay</th>\n",
       "      <th>LateAircraftDelay</th>\n",
       "    </tr>\n",
       "    <tr>\n",
       "      <th>Carrier</th>\n",
       "      <th></th>\n",
       "      <th></th>\n",
       "      <th></th>\n",
       "      <th></th>\n",
       "      <th></th>\n",
       "    </tr>\n",
       "  </thead>\n",
       "  <tbody>\n",
       "    <tr>\n",
       "      <th>AA</th>\n",
       "      <td>203731</td>\n",
       "      <td>24820</td>\n",
       "      <td>100460</td>\n",
       "      <td>636</td>\n",
       "      <td>225852</td>\n",
       "    </tr>\n",
       "    <tr>\n",
       "      <th>AS</th>\n",
       "      <td>28833</td>\n",
       "      <td>7333</td>\n",
       "      <td>23322</td>\n",
       "      <td>104</td>\n",
       "      <td>40466</td>\n",
       "    </tr>\n",
       "    <tr>\n",
       "      <th>B6</th>\n",
       "      <td>76452</td>\n",
       "      <td>9393</td>\n",
       "      <td>80780</td>\n",
       "      <td>1144</td>\n",
       "      <td>108437</td>\n",
       "    </tr>\n",
       "    <tr>\n",
       "      <th>DL</th>\n",
       "      <td>177509</td>\n",
       "      <td>41375</td>\n",
       "      <td>119586</td>\n",
       "      <td>582</td>\n",
       "      <td>120406</td>\n",
       "    </tr>\n",
       "    <tr>\n",
       "      <th>EV</th>\n",
       "      <td>225639</td>\n",
       "      <td>19179</td>\n",
       "      <td>164336</td>\n",
       "      <td>0</td>\n",
       "      <td>254080</td>\n",
       "    </tr>\n",
       "    <tr>\n",
       "      <th>F9</th>\n",
       "      <td>33264</td>\n",
       "      <td>1293</td>\n",
       "      <td>48440</td>\n",
       "      <td>0</td>\n",
       "      <td>66621</td>\n",
       "    </tr>\n",
       "    <tr>\n",
       "      <th>HA</th>\n",
       "      <td>17102</td>\n",
       "      <td>1415</td>\n",
       "      <td>1710</td>\n",
       "      <td>162</td>\n",
       "      <td>15175</td>\n",
       "    </tr>\n",
       "    <tr>\n",
       "      <th>MQ</th>\n",
       "      <td>147471</td>\n",
       "      <td>54185</td>\n",
       "      <td>152168</td>\n",
       "      <td>996</td>\n",
       "      <td>246744</td>\n",
       "    </tr>\n",
       "    <tr>\n",
       "      <th>NK</th>\n",
       "      <td>20312</td>\n",
       "      <td>607</td>\n",
       "      <td>93908</td>\n",
       "      <td>384</td>\n",
       "      <td>24678</td>\n",
       "    </tr>\n",
       "    <tr>\n",
       "      <th>OO</th>\n",
       "      <td>215580</td>\n",
       "      <td>30684</td>\n",
       "      <td>136501</td>\n",
       "      <td>671</td>\n",
       "      <td>348926</td>\n",
       "    </tr>\n",
       "    <tr>\n",
       "      <th>UA</th>\n",
       "      <td>173564</td>\n",
       "      <td>33093</td>\n",
       "      <td>114005</td>\n",
       "      <td>32</td>\n",
       "      <td>167279</td>\n",
       "    </tr>\n",
       "    <tr>\n",
       "      <th>US</th>\n",
       "      <td>100893</td>\n",
       "      <td>7694</td>\n",
       "      <td>97172</td>\n",
       "      <td>1011</td>\n",
       "      <td>81147</td>\n",
       "    </tr>\n",
       "    <tr>\n",
       "      <th>VX</th>\n",
       "      <td>10001</td>\n",
       "      <td>3951</td>\n",
       "      <td>14906</td>\n",
       "      <td>152</td>\n",
       "      <td>12141</td>\n",
       "    </tr>\n",
       "    <tr>\n",
       "      <th>WN</th>\n",
       "      <td>277804</td>\n",
       "      <td>28065</td>\n",
       "      <td>130761</td>\n",
       "      <td>826</td>\n",
       "      <td>471913</td>\n",
       "    </tr>\n",
       "  </tbody>\n",
       "</table>\n",
       "</div>"
      ],
      "text/plain": [
       "         CarrierDelay  WeatherDelay  NASDelay  SecurityDelay  \\\n",
       "Carrier                                                        \n",
       "AA             203731         24820    100460            636   \n",
       "AS              28833          7333     23322            104   \n",
       "B6              76452          9393     80780           1144   \n",
       "DL             177509         41375    119586            582   \n",
       "EV             225639         19179    164336              0   \n",
       "F9              33264          1293     48440              0   \n",
       "HA              17102          1415      1710            162   \n",
       "MQ             147471         54185    152168            996   \n",
       "NK              20312           607     93908            384   \n",
       "OO             215580         30684    136501            671   \n",
       "UA             173564         33093    114005             32   \n",
       "US             100893          7694     97172           1011   \n",
       "VX              10001          3951     14906            152   \n",
       "WN             277804         28065    130761            826   \n",
       "\n",
       "         LateAircraftDelay  \n",
       "Carrier                     \n",
       "AA                  225852  \n",
       "AS                   40466  \n",
       "B6                  108437  \n",
       "DL                  120406  \n",
       "EV                  254080  \n",
       "F9                   66621  \n",
       "HA                   15175  \n",
       "MQ                  246744  \n",
       "NK                   24678  \n",
       "OO                  348926  \n",
       "UA                  167279  \n",
       "US                   81147  \n",
       "VX                   12141  \n",
       "WN                  471913  "
      ]
     },
     "execution_count": 131,
     "metadata": {},
     "output_type": "execute_result"
    }
   ],
   "source": [
    "# para la serie de columnas de delayCol ejecuta las funciones agrupado x Carrier\n",
    "\n",
    "by_carrier[delayCol].sum()"
   ]
  },
  {
   "cell_type": "code",
   "execution_count": 133,
   "metadata": {
    "collapsed": true
   },
   "outputs": [],
   "source": [
    "# lo llevo a un nuevo DataFrame\n",
    "delaySumCarrier=by_carrier[delayCol].sum()"
   ]
  },
  {
   "cell_type": "code",
   "execution_count": 141,
   "metadata": {
    "collapsed": false
   },
   "outputs": [],
   "source": [
    "delayAA=delaySumCarrier.ix[\"AA\"]\n",
    "delayWN=delaySumCarrier.ix[\"WN\"]"
   ]
  },
  {
   "cell_type": "code",
   "execution_count": 143,
   "metadata": {
    "collapsed": false
   },
   "outputs": [
    {
     "data": {
      "image/png": "[encoded data removed]",
      "text/plain": [
       "<matplotlib.figure.Figure at 0x7f41ee89e610>"
      ]
     },
     "metadata": {},
     "output_type": "display_data"
    }
   ],
   "source": [
    "locx=np.arange(len(delayAA))\n",
    "plt.bar(locx,delayAA)\n",
    "\n",
    "locx2=locx+(len(delayWN))\n",
    "plt.bar(locx2,delayWN)\n",
    "\n",
    "plt.show()\n",
    "\n",
    "\n",
    "# ha mostrado los datos de la 1a cia (sus cinco columnas) y luego los datos de la 2da\n",
    "\n",
    "# para alternarlos hay q plotear columnas e ir avanzando (con un For p.e)"
   ]
  },
  {
   "cell_type": "code",
   "execution_count": 147,
   "metadata": {
    "collapsed": false
   },
   "outputs": [
    {
     "data": {
      "image/png": "[encoded data removed]",
      "text/plain": [
       "<matplotlib.figure.Figure at 0x7f41ee5bf450>"
      ]
     },
     "metadata": {},
     "output_type": "display_data"
    }
   ],
   "source": [
    "# Ahora ploteamos una columna en concreto y la muestra por cada DataFrame del groupBy\n",
    "locy=np.arange(len(delaySumCarrier[\"SecurityDelay\"]))\n",
    "plt.bar(locy,delaySumCarrier[\"SecurityDelay\"])\n",
    "plt.xticks(locy,delaySumCarrier[\"SecurityDelay\"].index)\n",
    "plt.show()"
   ]
  },
  {
   "cell_type": "code",
   "execution_count": 149,
   "metadata": {
    "collapsed": false
   },
   "outputs": [
    {
     "data": {
      "text/plain": [
       "Carrier\n",
       "AA    457355\n",
       "AS     41946\n",
       "B6    206040\n",
       "DL    376407\n",
       "EV    470725\n",
       "F9    121305\n",
       "HA      8408\n",
       "MQ    444967\n",
       "NK    113676\n",
       "OO    570636\n",
       "UA    524744\n",
       "US    169183\n",
       "VX     32142\n",
       "WN    935339\n",
       "Name: DepDelay, dtype: float64"
      ]
     },
     "execution_count": 149,
     "metadata": {},
     "output_type": "execute_result"
    }
   ],
   "source": [
    "# otro ejercicio  -->  La aerolinea con más retraso (depDelay)\n",
    "\n",
    "by_carrier[\"DepDelay\"].sum()\n",
    "\n",
    "\n",
    "# es una serie con las aerolineas como indice y el sum del delay como columna"
   ]
  },
  {
   "cell_type": "code",
   "execution_count": 150,
   "metadata": {
    "collapsed": true
   },
   "outputs": [],
   "source": [
    "# lo llevamos a una variable para poder ordenarlo después\n",
    "totDelayCarrier=by_carrier[\"DepDelay\"].sum()"
   ]
  },
  {
   "cell_type": "code",
   "execution_count": 152,
   "metadata": {
    "collapsed": false
   },
   "outputs": [
    {
     "data": {
      "text/plain": [
       "Carrier\n",
       "WN    935339\n",
       "OO    570636\n",
       "UA    524744\n",
       "EV    470725\n",
       "AA    457355\n",
       "MQ    444967\n",
       "DL    376407\n",
       "B6    206040\n",
       "US    169183\n",
       "F9    121305\n",
       "NK    113676\n",
       "AS     41946\n",
       "VX     32142\n",
       "HA      8408\n",
       "Name: DepDelay, dtype: float64"
      ]
     },
     "execution_count": 152,
     "metadata": {},
     "output_type": "execute_result"
    }
   ],
   "source": [
    "# y lo ordenamos desc\n",
    "totDelayCarrier.sort(ascending=False)\n",
    "\n",
    "\n",
    "totDelayCarrier"
   ]
  },
  {
   "cell_type": "code",
   "execution_count": 153,
   "metadata": {
    "collapsed": false
   },
   "outputs": [
    {
     "data": {
      "text/plain": [
       "Carrier\n",
       "WN    935339\n",
       "OO    570636\n",
       "UA    524744\n",
       "EV    470725\n",
       "AA    457355\n",
       "Name: DepDelay, dtype: float64"
      ]
     },
     "execution_count": 153,
     "metadata": {},
     "output_type": "execute_result"
    }
   ],
   "source": [
    "# se le puede aplicar head (al estar ordenado es un Top)\n",
    "\n",
    "totDelayCarrier.head(5)"
   ]
  },
  {
   "cell_type": "code",
   "execution_count": 154,
   "metadata": {
    "collapsed": false
   },
   "outputs": [
    {
     "data": {
      "text/plain": [
       "Index([u'Year', u'Quarter', u'Month', u'DayofMonth', u'DayOfWeek',\n",
       "       u'FlightDate', u'UniqueCarrier', u'AirlineID', u'Carrier', u'TailNum',\n",
       "       u'FlightNum', u'OriginAirportID', u'OriginAirportSeqID',\n",
       "       u'OriginCityMarketID', u'Origin', u'OriginCityName', u'OriginState',\n",
       "       u'OriginStateFips', u'OriginStateName', u'OriginWac', u'DestAirportID',\n",
       "       u'DestAirportSeqID', u'DestCityMarketID', u'Dest', u'DestCityName',\n",
       "       u'DestState', u'DestStateFips', u'DestStateName', u'DestWac',\n",
       "       u'CRSDepTime', u'DepTime', u'DepDelay', u'DepDelayMinutes', u'DepDel15',\n",
       "       u'DepartureDelayGroups', u'DepTimeBlk', u'TaxiOut', u'WheelsOff',\n",
       "       u'WheelsOn', u'TaxiIn', u'CRSArrTime', u'ArrTime', u'ArrDelay',\n",
       "       u'ArrDelayMinutes', u'ArrDel15', u'ArrivalDelayGroups', u'ArrTimeBlk',\n",
       "       u'Cancelled', u'CancellationCode', u'CRSElapsedTime',\n",
       "       u'ActualElapsedTime', u'AirTime', u'Flights', u'Distance',\n",
       "       u'DistanceGroup', u'CarrierDelay', u'WeatherDelay', u'NASDelay',\n",
       "       u'SecurityDelay', u'LateAircraftDelay', u'FirstDepTime',\n",
       "       u'TotalAddGTime', u'LongestAddGTime', u'newDay', u'FlightDateDt',\n",
       "       u'FlightNumStr'],\n",
       "      dtype='object')"
      ]
     },
     "execution_count": 154,
     "metadata": {},
     "output_type": "execute_result"
    }
   ],
   "source": [
    "df.columns"
   ]
  },
  {
   "cell_type": "code",
   "execution_count": 155,
   "metadata": {
    "collapsed": false
   },
   "outputs": [
    {
     "data": {
      "text/plain": [
       "107652    13487\n",
       "134251    11697\n",
       "354492    13204\n",
       "22908     13930\n",
       "228863    14107\n",
       "331962    14843\n",
       "254245    14747\n",
       "422538    10397\n",
       "164200    12889\n",
       "445537    11995\n",
       "Name: OriginAirportID, dtype: int64"
      ]
     },
     "execution_count": 155,
     "metadata": {},
     "output_type": "execute_result"
    }
   ],
   "source": [
    "df[\"OriginAirportID\"].sample(10)"
   ]
  },
  {
   "cell_type": "code",
   "execution_count": 156,
   "metadata": {
    "collapsed": true
   },
   "outputs": [],
   "source": [
    "## la ciudad con más retrasos x razones de clima\n",
    "\n",
    "\n",
    "# creamos la agrupación x Ciudad\n",
    "\n",
    "by_city=df.groupby(\"OriginCityName\")"
   ]
  },
  {
   "cell_type": "code",
   "execution_count": 158,
   "metadata": {
    "collapsed": false
   },
   "outputs": [],
   "source": [
    "cityWeatherDelay=by_city[\"WeatherDelay\"].sum()"
   ]
  },
  {
   "cell_type": "code",
   "execution_count": 159,
   "metadata": {
    "collapsed": true
   },
   "outputs": [],
   "source": [
    "cityWeatherDelay.sort(ascending=False)"
   ]
  },
  {
   "cell_type": "code",
   "execution_count": 160,
   "metadata": {
    "collapsed": false
   },
   "outputs": [
    {
     "data": {
      "text/plain": [
       "OriginCityName\n",
       "Chicago, IL              93112\n",
       "New York, NY             18552\n",
       "Atlanta, GA              11978\n",
       "Washington, DC            9453\n",
       "Boston, MA                8133\n",
       "Denver, CO                7895\n",
       "Dallas/Fort Worth, TX     6528\n",
       "Los Angeles, CA           5626\n",
       "San Francisco, CA         5154\n",
       "San Jose, CA              4105\n",
       "Name: WeatherDelay, dtype: float64"
      ]
     },
     "execution_count": 160,
     "metadata": {},
     "output_type": "execute_result"
    }
   ],
   "source": [
    "cityWeatherDelay.head(10)"
   ]
  },
  {
   "cell_type": "code",
   "execution_count": 162,
   "metadata": {
    "collapsed": false
   },
   "outputs": [],
   "source": [
    "cityWeatherDelay2=by_city[\"WeatherDelay\"].agg(['mean','count'])"
   ]
  },
  {
   "cell_type": "code",
   "execution_count": 165,
   "metadata": {
    "collapsed": false
   },
   "outputs": [],
   "source": [
    "city3=cityWeatherDelay2[cityWeatherDelay2[\"count\"]>1000]"
   ]
  },
  {
   "cell_type": "code",
   "execution_count": 167,
   "metadata": {
    "collapsed": false
   },
   "outputs": [
    {
     "data": {
      "text/html": [
       "<div>\n",
       "<table border=\"1\" class=\"dataframe\">\n",
       "  <thead>\n",
       "    <tr style=\"text-align: right;\">\n",
       "      <th></th>\n",
       "      <th>mean</th>\n",
       "      <th>count</th>\n",
       "    </tr>\n",
       "    <tr>\n",
       "      <th>OriginCityName</th>\n",
       "      <th></th>\n",
       "      <th></th>\n",
       "    </tr>\n",
       "  </thead>\n",
       "  <tbody>\n",
       "    <tr>\n",
       "      <th>Chicago, IL</th>\n",
       "      <td>3.079813</td>\n",
       "      <td>30233</td>\n",
       "    </tr>\n",
       "    <tr>\n",
       "      <th>Richmond, VA</th>\n",
       "      <td>2.335950</td>\n",
       "      <td>1274</td>\n",
       "    </tr>\n",
       "    <tr>\n",
       "      <th>Hartford, CT</th>\n",
       "      <td>1.386310</td>\n",
       "      <td>1680</td>\n",
       "    </tr>\n",
       "    <tr>\n",
       "      <th>San Jose, CA</th>\n",
       "      <td>1.231254</td>\n",
       "      <td>3334</td>\n",
       "    </tr>\n",
       "    <tr>\n",
       "      <th>Pittsburgh, PA</th>\n",
       "      <td>1.137914</td>\n",
       "      <td>2081</td>\n",
       "    </tr>\n",
       "  </tbody>\n",
       "</table>\n",
       "</div>"
      ],
      "text/plain": [
       "                    mean  count\n",
       "OriginCityName                 \n",
       "Chicago, IL     3.079813  30233\n",
       "Richmond, VA    2.335950   1274\n",
       "Hartford, CT    1.386310   1680\n",
       "San Jose, CA    1.231254   3334\n",
       "Pittsburgh, PA  1.137914   2081"
      ]
     },
     "execution_count": 167,
     "metadata": {},
     "output_type": "execute_result"
    }
   ],
   "source": [
    "city3.sort(\"mean\",ascending=False).head(5)"
   ]
  },
  {
   "cell_type": "code",
   "execution_count": 172,
   "metadata": {
    "collapsed": false
   },
   "outputs": [],
   "source": [
    "# plotear número de vuelos x día  >>> por la columna FligthDate datetime\n",
    "\n",
    "by_flightdate=df.groupby(\"FlightDateDt\")"
   ]
  },
  {
   "cell_type": "code",
   "execution_count": 173,
   "metadata": {
    "collapsed": false
   },
   "outputs": [],
   "source": [
    "# count devuelve el núm de filas con dato. Cogemos cualquiera, year x ejemplo\n",
    "\n",
    "flight_evol=by_flightdate[\"Year\"].count()"
   ]
  },
  {
   "cell_type": "code",
   "execution_count": 178,
   "metadata": {
    "collapsed": false
   },
   "outputs": [
    {
     "data": {
      "image/png": "[encoded data removed]",
      "text/plain": [
       "<matplotlib.figure.Figure at 0x7f41e5d8f250>"
      ]
     },
     "metadata": {},
     "output_type": "display_data"
    }
   ],
   "source": [
    "plt.plot(flight_evol)\n",
    "plt.ylim(0,flight_evol.max()+3000)       # escala del eje y de 0 al valor máx de la serie+3000\n",
    "plt.show()"
   ]
  },
  {
   "cell_type": "code",
   "execution_count": 185,
   "metadata": {
    "collapsed": false
   },
   "outputs": [],
   "source": [
    "#  crear dataframe pero sólo con FlightNum, Distance, Duration\n",
    "\n",
    "dfFDT=df[[\"FlightNum\",\"Distance\",\"AirTime\"]]\n",
    "\n",
    "#df[\"AirTime\"].sample(10)"
   ]
  },
  {
   "cell_type": "code",
   "execution_count": 186,
   "metadata": {
    "collapsed": false
   },
   "outputs": [
    {
     "data": {
      "text/html": [
       "<div>\n",
       "<table border=\"1\" class=\"dataframe\">\n",
       "  <thead>\n",
       "    <tr style=\"text-align: right;\">\n",
       "      <th></th>\n",
       "      <th>FlightNum</th>\n",
       "      <th>Distance</th>\n",
       "      <th>AirTime</th>\n",
       "    </tr>\n",
       "  </thead>\n",
       "  <tbody>\n",
       "    <tr>\n",
       "      <th>95028</th>\n",
       "      <td>2209</td>\n",
       "      <td>1589</td>\n",
       "      <td>207</td>\n",
       "    </tr>\n",
       "    <tr>\n",
       "      <th>292120</th>\n",
       "      <td>1139</td>\n",
       "      <td>602</td>\n",
       "      <td>73</td>\n",
       "    </tr>\n",
       "    <tr>\n",
       "      <th>426939</th>\n",
       "      <td>6159</td>\n",
       "      <td>403</td>\n",
       "      <td>62</td>\n",
       "    </tr>\n",
       "    <tr>\n",
       "      <th>336675</th>\n",
       "      <td>826</td>\n",
       "      <td>544</td>\n",
       "      <td>98</td>\n",
       "    </tr>\n",
       "    <tr>\n",
       "      <th>278055</th>\n",
       "      <td>5610</td>\n",
       "      <td>791</td>\n",
       "      <td>111</td>\n",
       "    </tr>\n",
       "    <tr>\n",
       "      <th>23867</th>\n",
       "      <td>1484</td>\n",
       "      <td>190</td>\n",
       "      <td>36</td>\n",
       "    </tr>\n",
       "    <tr>\n",
       "      <th>389639</th>\n",
       "      <td>4453</td>\n",
       "      <td>427</td>\n",
       "      <td>78</td>\n",
       "    </tr>\n",
       "    <tr>\n",
       "      <th>405405</th>\n",
       "      <td>964</td>\n",
       "      <td>503</td>\n",
       "      <td>87</td>\n",
       "    </tr>\n",
       "    <tr>\n",
       "      <th>33586</th>\n",
       "      <td>2224</td>\n",
       "      <td>1514</td>\n",
       "      <td>199</td>\n",
       "    </tr>\n",
       "    <tr>\n",
       "      <th>106925</th>\n",
       "      <td>2518</td>\n",
       "      <td>250</td>\n",
       "      <td>48</td>\n",
       "    </tr>\n",
       "  </tbody>\n",
       "</table>\n",
       "</div>"
      ],
      "text/plain": [
       "        FlightNum  Distance  AirTime\n",
       "95028        2209      1589      207\n",
       "292120       1139       602       73\n",
       "426939       6159       403       62\n",
       "336675        826       544       98\n",
       "278055       5610       791      111\n",
       "23867        1484       190       36\n",
       "389639       4453       427       78\n",
       "405405        964       503       87\n",
       "33586        2224      1514      199\n",
       "106925       2518       250       48"
      ]
     },
     "execution_count": 186,
     "metadata": {},
     "output_type": "execute_result"
    }
   ],
   "source": [
    "dfFDT.sample(10)"
   ]
  },
  {
   "cell_type": "code",
   "execution_count": 187,
   "metadata": {
    "collapsed": false
   },
   "outputs": [
    {
     "data": {
      "text/html": [
       "<div>\n",
       "<table border=\"1\" class=\"dataframe\">\n",
       "  <thead>\n",
       "    <tr style=\"text-align: right;\">\n",
       "      <th></th>\n",
       "      <th>FlightNum</th>\n",
       "      <th>Distance</th>\n",
       "      <th>AirTime</th>\n",
       "    </tr>\n",
       "  </thead>\n",
       "  <tbody>\n",
       "    <tr>\n",
       "      <th>FlightNum</th>\n",
       "      <td>1.000000</td>\n",
       "      <td>-0.349912</td>\n",
       "      <td>-0.327794</td>\n",
       "    </tr>\n",
       "    <tr>\n",
       "      <th>Distance</th>\n",
       "      <td>-0.349912</td>\n",
       "      <td>1.000000</td>\n",
       "      <td>0.940829</td>\n",
       "    </tr>\n",
       "    <tr>\n",
       "      <th>AirTime</th>\n",
       "      <td>-0.327794</td>\n",
       "      <td>0.940829</td>\n",
       "      <td>1.000000</td>\n",
       "    </tr>\n",
       "  </tbody>\n",
       "</table>\n",
       "</div>"
      ],
      "text/plain": [
       "           FlightNum  Distance   AirTime\n",
       "FlightNum   1.000000 -0.349912 -0.327794\n",
       "Distance   -0.349912  1.000000  0.940829\n",
       "AirTime    -0.327794  0.940829  1.000000"
      ]
     },
     "execution_count": 187,
     "metadata": {},
     "output_type": "execute_result"
    }
   ],
   "source": [
    "# correlación entre columnas\n",
    "\n",
    "dfFDT.corr()\n",
    "\n",
    "# muestra la relación entre distancia y tiempo de vuelo"
   ]
  },
  {
   "cell_type": "code",
   "execution_count": 188,
   "metadata": {
    "collapsed": true
   },
   "outputs": [],
   "source": [
    "# nueva columna con la hora\n",
    "# DepTime = 856 : las 8 y 56\n",
    "\n",
    "# lo hacemos a través de una función\n",
    "\n",
    "def extractHour(n):\n",
    "    return int(n/100)"
   ]
  },
  {
   "cell_type": "code",
   "execution_count": 190,
   "metadata": {
    "collapsed": true
   },
   "outputs": [],
   "source": [
    "# nueva Col\n",
    "\n",
    "df[\"Hour\"]=df[\"DepTime\"].apply(extractHour)"
   ]
  },
  {
   "cell_type": "code",
   "execution_count": 192,
   "metadata": {
    "collapsed": false
   },
   "outputs": [
    {
     "data": {
      "image/png": "[encoded data removed]",
      "text/plain": [
       "<matplotlib.figure.Figure at 0x7f41e5d8ffd0>"
      ]
     },
     "metadata": {},
     "output_type": "display_data"
    }
   ],
   "source": [
    "# vamos a plotear la hora con el retraso x AirCraft\n",
    "\n",
    "plt.scatter(df[\"Hour\"],df[\"LateAircraftDelay\"])\n",
    "plt.show()"
   ]
  },
  {
   "cell_type": "code",
   "execution_count": 194,
   "metadata": {
    "collapsed": false
   },
   "outputs": [],
   "source": [
    "by_hour=df.groupby(\"Hour\")"
   ]
  },
  {
   "cell_type": "code",
   "execution_count": 197,
   "metadata": {
    "collapsed": false
   },
   "outputs": [],
   "source": [
    "hours = []\n",
    "groups = []\n",
    "\n",
    "for h,g in by_hour:\n",
    "    hours.append(h)\n",
    "    groups.append(g[\"LateAircraftDelay\"])"
   ]
  },
  {
   "cell_type": "code",
   "execution_count": 198,
   "metadata": {
    "collapsed": false
   },
   "outputs": [
    {
     "data": {
      "image/png": "[encoded data removed]",
      "text/plain": [
       "<matplotlib.figure.Figure at 0x7f41e0fabcd0>"
      ]
     },
     "metadata": {},
     "output_type": "display_data"
    }
   ],
   "source": [
    "plt.boxplot(groups)\n",
    "plt.ylim(-100,100)\n",
    "plt.show()"
   ]
  },
  {
   "cell_type": "code",
   "execution_count": null,
   "metadata": {
    "collapsed": true
   },
   "outputs": [],
   "source": []
  }
 ],
 "metadata": {
  "kernelspec": {
   "display_name": "Python 2",
   "language": "python",
   "name": "python2"
  },
  "language_info": {
   "codemirror_mode": {
    "name": "ipython",
    "version": 2
   },
   "file_extension": ".py",
   "mimetype": "text/x-python",
   "name": "python",
   "nbconvert_exporter": "python",
   "pygments_lexer": "ipython2",
   "version": "2.7.10"
  }
 },
 "nbformat": 4,
 "nbformat_minor": 0
}
